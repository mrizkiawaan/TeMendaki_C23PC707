{
  "cells": [
    {
      "cell_type": "markdown",
      "metadata": {
        "id": "pGjZM4-lhs-J"
      },
      "source": [
        "## General steps"
      ]
    },
    {
      "cell_type": "markdown",
      "metadata": {
        "id": "rB38i6tsFeqz"
      },
      "source": []
    },
    {
      "cell_type": "markdown",
      "metadata": {
        "id": "B8tX5aZiapsQ"
      },
      "source": [
        "###**Import**"
      ]
    },
    {
      "cell_type": "code",
      "execution_count": null,
      "metadata": {
        "id": "yVRXZ0tjp7Eo"
      },
      "outputs": [],
      "source": [
        "# !pip install -q tensorflow-recommenders\n",
        "# !pip install -q --upgrade tensorflow-datasets"
      ]
    },
    {
      "cell_type": "code",
      "execution_count": null,
      "metadata": {
        "id": "r_jR17ozqL_H"
      },
      "outputs": [],
      "source": [
        "from typing import Dict, Text\n",
        "\n",
        "import numpy as np\n",
        "import pandas as pd\n",
        "import tensorflow as tf\n",
        "from tensorflow.keras import layers\n",
        "from tensorflow import keras"
      ]
    },
    {
      "cell_type": "markdown",
      "metadata": {
        "id": "fx_OiqhCrEFY"
      },
      "source": [
        "##**Applying Quickstart to our own dataset**"
      ]
    },
    {
      "cell_type": "markdown",
      "metadata": {
        "id": "Hv9BBTYsrNvZ"
      },
      "source": [
        "###Import module and connect to gdrive"
      ]
    },
    {
      "cell_type": "code",
      "execution_count": null,
      "metadata": {
        "id": "GL_oxrH9U8d9"
      },
      "outputs": [],
      "source": [
        "from typing import Dict, Text\n",
        "\n",
        "import numpy as np\n",
        "import pandas as pd\n",
        "import tensorflow as tf\n",
        "from tensorflow.keras import layers\n",
        "from tensorflow import keras\n",
        "from tensorflow.keras.layers import TextVectorization"
      ]
    },
    {
      "cell_type": "code",
      "execution_count": null,
      "metadata": {
        "colab": {
          "base_uri": "https://localhost:8080/"
        },
        "id": "ZRew-Z9prMRn",
        "outputId": "d06d5e28-051e-4dbe-bf03-f9d38b3d1561"
      },
      "outputs": [
        {
          "output_type": "stream",
          "name": "stdout",
          "text": [
            "Mounted at /content/gdrive/\n"
          ]
        }
      ],
      "source": [
        "from google.colab import drive\n",
        "drive.mount('/content/gdrive/', force_remount=True)"
      ]
    },
    {
      "cell_type": "code",
      "execution_count": null,
      "metadata": {
        "colab": {
          "base_uri": "https://localhost:8080/"
        },
        "id": "Kg1JFlZ1rdmb",
        "outputId": "7f36cd9c-da71-4d6c-c86c-959430b9e913"
      },
      "outputs": [
        {
          "output_type": "stream",
          "name": "stdout",
          "text": [
            "/content/gdrive/My Drive/CAPSTONE\n"
          ]
        }
      ],
      "source": [
        "%cd /content/gdrive/My Drive/CAPSTONE"
      ]
    },
    {
      "cell_type": "code",
      "execution_count": null,
      "metadata": {
        "id": "FHzcN8rfZZlm"
      },
      "outputs": [],
      "source": [
        "df = pd.read_csv(\"last_merged_data.csv\")"
      ]
    },
    {
      "cell_type": "code",
      "execution_count": null,
      "metadata": {
        "colab": {
          "base_uri": "https://localhost:8080/",
          "height": 423
        },
        "id": "3iRYoHF2a3NC",
        "outputId": "d8101c52-c015-4bad-b36b-47ba19c7a3e3"
      },
      "outputs": [
        {
          "output_type": "execute_result",
          "data": {
            "text/plain": [
              "      gunungID     nama_gunung  ketinggian      kota provinsi_gunung  \\\n",
              "4            1          Arjuno        3339    Malang      Jawa Timur   \n",
              "8            1          Arjuno        3339    Malang      Jawa Timur   \n",
              "11           1          Arjuno        3339    Malang      Jawa Timur   \n",
              "12           1          Arjuno        3339    Malang      Jawa Timur   \n",
              "13           1          Arjuno        3339    Malang      Jawa Timur   \n",
              "...        ...             ...         ...       ...             ...   \n",
              "5911       248  Pantai Siombak        3700  Tolikara           Papua   \n",
              "5914       248  Pantai Siombak        3700  Tolikara           Papua   \n",
              "5921       248  Pantai Siombak        3700  Tolikara           Papua   \n",
              "5924       248  Pantai Siombak        3700  Tolikara           Papua   \n",
              "5930       248  Pantai Siombak        3700  Tolikara           Papua   \n",
              "\n",
              "     provinsi_user  userID              name keahlian tingkat_kesulitan  \n",
              "4       Jawa Timur     772      Andrew Roach   Pemula             Sulit  \n",
              "8       Jawa Timur    1153     Julieta Henry   Pemula             Sulit  \n",
              "11      Jawa Timur    1295     Nylah Wilkins   Pemula             Sulit  \n",
              "12      Jawa Timur    1424      Sergio Allen   Pemula             Sulit  \n",
              "13      Jawa Timur    1675     Coraline Long   Pemula             Sulit  \n",
              "...            ...     ...               ...      ...               ...  \n",
              "5911         Papua    3033  Lucille Marshall   Pemula             Sulit  \n",
              "5914         Papua    3316  Malakai Caldwell   Pemula             Sulit  \n",
              "5921         Papua    3962  Ryan Christensen   Pemula             Sulit  \n",
              "5924         Papua    4240     Kohen Shepard   Pemula             Sulit  \n",
              "5930         Papua    4881        Kali Hurst   Pemula             Sulit  \n",
              "\n",
              "[1906 rows x 10 columns]"
            ],
            "text/html": [
              "\n",
              "  <div id=\"df-573bd05f-62fd-45ef-979b-05cdd0ce1ea1\">\n",
              "    <div class=\"colab-df-container\">\n",
              "      <div>\n",
              "<style scoped>\n",
              "    .dataframe tbody tr th:only-of-type {\n",
              "        vertical-align: middle;\n",
              "    }\n",
              "\n",
              "    .dataframe tbody tr th {\n",
              "        vertical-align: top;\n",
              "    }\n",
              "\n",
              "    .dataframe thead th {\n",
              "        text-align: right;\n",
              "    }\n",
              "</style>\n",
              "<table border=\"1\" class=\"dataframe\">\n",
              "  <thead>\n",
              "    <tr style=\"text-align: right;\">\n",
              "      <th></th>\n",
              "      <th>gunungID</th>\n",
              "      <th>nama_gunung</th>\n",
              "      <th>ketinggian</th>\n",
              "      <th>kota</th>\n",
              "      <th>provinsi_gunung</th>\n",
              "      <th>provinsi_user</th>\n",
              "      <th>userID</th>\n",
              "      <th>name</th>\n",
              "      <th>keahlian</th>\n",
              "      <th>tingkat_kesulitan</th>\n",
              "    </tr>\n",
              "  </thead>\n",
              "  <tbody>\n",
              "    <tr>\n",
              "      <th>4</th>\n",
              "      <td>1</td>\n",
              "      <td>Arjuno</td>\n",
              "      <td>3339</td>\n",
              "      <td>Malang</td>\n",
              "      <td>Jawa Timur</td>\n",
              "      <td>Jawa Timur</td>\n",
              "      <td>772</td>\n",
              "      <td>Andrew Roach</td>\n",
              "      <td>Pemula</td>\n",
              "      <td>Sulit</td>\n",
              "    </tr>\n",
              "    <tr>\n",
              "      <th>8</th>\n",
              "      <td>1</td>\n",
              "      <td>Arjuno</td>\n",
              "      <td>3339</td>\n",
              "      <td>Malang</td>\n",
              "      <td>Jawa Timur</td>\n",
              "      <td>Jawa Timur</td>\n",
              "      <td>1153</td>\n",
              "      <td>Julieta Henry</td>\n",
              "      <td>Pemula</td>\n",
              "      <td>Sulit</td>\n",
              "    </tr>\n",
              "    <tr>\n",
              "      <th>11</th>\n",
              "      <td>1</td>\n",
              "      <td>Arjuno</td>\n",
              "      <td>3339</td>\n",
              "      <td>Malang</td>\n",
              "      <td>Jawa Timur</td>\n",
              "      <td>Jawa Timur</td>\n",
              "      <td>1295</td>\n",
              "      <td>Nylah Wilkins</td>\n",
              "      <td>Pemula</td>\n",
              "      <td>Sulit</td>\n",
              "    </tr>\n",
              "    <tr>\n",
              "      <th>12</th>\n",
              "      <td>1</td>\n",
              "      <td>Arjuno</td>\n",
              "      <td>3339</td>\n",
              "      <td>Malang</td>\n",
              "      <td>Jawa Timur</td>\n",
              "      <td>Jawa Timur</td>\n",
              "      <td>1424</td>\n",
              "      <td>Sergio Allen</td>\n",
              "      <td>Pemula</td>\n",
              "      <td>Sulit</td>\n",
              "    </tr>\n",
              "    <tr>\n",
              "      <th>13</th>\n",
              "      <td>1</td>\n",
              "      <td>Arjuno</td>\n",
              "      <td>3339</td>\n",
              "      <td>Malang</td>\n",
              "      <td>Jawa Timur</td>\n",
              "      <td>Jawa Timur</td>\n",
              "      <td>1675</td>\n",
              "      <td>Coraline Long</td>\n",
              "      <td>Pemula</td>\n",
              "      <td>Sulit</td>\n",
              "    </tr>\n",
              "    <tr>\n",
              "      <th>...</th>\n",
              "      <td>...</td>\n",
              "      <td>...</td>\n",
              "      <td>...</td>\n",
              "      <td>...</td>\n",
              "      <td>...</td>\n",
              "      <td>...</td>\n",
              "      <td>...</td>\n",
              "      <td>...</td>\n",
              "      <td>...</td>\n",
              "      <td>...</td>\n",
              "    </tr>\n",
              "    <tr>\n",
              "      <th>5911</th>\n",
              "      <td>248</td>\n",
              "      <td>Pantai Siombak</td>\n",
              "      <td>3700</td>\n",
              "      <td>Tolikara</td>\n",
              "      <td>Papua</td>\n",
              "      <td>Papua</td>\n",
              "      <td>3033</td>\n",
              "      <td>Lucille Marshall</td>\n",
              "      <td>Pemula</td>\n",
              "      <td>Sulit</td>\n",
              "    </tr>\n",
              "    <tr>\n",
              "      <th>5914</th>\n",
              "      <td>248</td>\n",
              "      <td>Pantai Siombak</td>\n",
              "      <td>3700</td>\n",
              "      <td>Tolikara</td>\n",
              "      <td>Papua</td>\n",
              "      <td>Papua</td>\n",
              "      <td>3316</td>\n",
              "      <td>Malakai Caldwell</td>\n",
              "      <td>Pemula</td>\n",
              "      <td>Sulit</td>\n",
              "    </tr>\n",
              "    <tr>\n",
              "      <th>5921</th>\n",
              "      <td>248</td>\n",
              "      <td>Pantai Siombak</td>\n",
              "      <td>3700</td>\n",
              "      <td>Tolikara</td>\n",
              "      <td>Papua</td>\n",
              "      <td>Papua</td>\n",
              "      <td>3962</td>\n",
              "      <td>Ryan Christensen</td>\n",
              "      <td>Pemula</td>\n",
              "      <td>Sulit</td>\n",
              "    </tr>\n",
              "    <tr>\n",
              "      <th>5924</th>\n",
              "      <td>248</td>\n",
              "      <td>Pantai Siombak</td>\n",
              "      <td>3700</td>\n",
              "      <td>Tolikara</td>\n",
              "      <td>Papua</td>\n",
              "      <td>Papua</td>\n",
              "      <td>4240</td>\n",
              "      <td>Kohen Shepard</td>\n",
              "      <td>Pemula</td>\n",
              "      <td>Sulit</td>\n",
              "    </tr>\n",
              "    <tr>\n",
              "      <th>5930</th>\n",
              "      <td>248</td>\n",
              "      <td>Pantai Siombak</td>\n",
              "      <td>3700</td>\n",
              "      <td>Tolikara</td>\n",
              "      <td>Papua</td>\n",
              "      <td>Papua</td>\n",
              "      <td>4881</td>\n",
              "      <td>Kali Hurst</td>\n",
              "      <td>Pemula</td>\n",
              "      <td>Sulit</td>\n",
              "    </tr>\n",
              "  </tbody>\n",
              "</table>\n",
              "<p>1906 rows × 10 columns</p>\n",
              "</div>\n",
              "      <button class=\"colab-df-convert\" onclick=\"convertToInteractive('df-573bd05f-62fd-45ef-979b-05cdd0ce1ea1')\"\n",
              "              title=\"Convert this dataframe to an interactive table.\"\n",
              "              style=\"display:none;\">\n",
              "        \n",
              "  <svg xmlns=\"http://www.w3.org/2000/svg\" height=\"24px\"viewBox=\"0 0 24 24\"\n",
              "       width=\"24px\">\n",
              "    <path d=\"M0 0h24v24H0V0z\" fill=\"none\"/>\n",
              "    <path d=\"M18.56 5.44l.94 2.06.94-2.06 2.06-.94-2.06-.94-.94-2.06-.94 2.06-2.06.94zm-11 1L8.5 8.5l.94-2.06 2.06-.94-2.06-.94L8.5 2.5l-.94 2.06-2.06.94zm10 10l.94 2.06.94-2.06 2.06-.94-2.06-.94-.94-2.06-.94 2.06-2.06.94z\"/><path d=\"M17.41 7.96l-1.37-1.37c-.4-.4-.92-.59-1.43-.59-.52 0-1.04.2-1.43.59L10.3 9.45l-7.72 7.72c-.78.78-.78 2.05 0 2.83L4 21.41c.39.39.9.59 1.41.59.51 0 1.02-.2 1.41-.59l7.78-7.78 2.81-2.81c.8-.78.8-2.07 0-2.86zM5.41 20L4 18.59l7.72-7.72 1.47 1.35L5.41 20z\"/>\n",
              "  </svg>\n",
              "      </button>\n",
              "      \n",
              "  <style>\n",
              "    .colab-df-container {\n",
              "      display:flex;\n",
              "      flex-wrap:wrap;\n",
              "      gap: 12px;\n",
              "    }\n",
              "\n",
              "    .colab-df-convert {\n",
              "      background-color: #E8F0FE;\n",
              "      border: none;\n",
              "      border-radius: 50%;\n",
              "      cursor: pointer;\n",
              "      display: none;\n",
              "      fill: #1967D2;\n",
              "      height: 32px;\n",
              "      padding: 0 0 0 0;\n",
              "      width: 32px;\n",
              "    }\n",
              "\n",
              "    .colab-df-convert:hover {\n",
              "      background-color: #E2EBFA;\n",
              "      box-shadow: 0px 1px 2px rgba(60, 64, 67, 0.3), 0px 1px 3px 1px rgba(60, 64, 67, 0.15);\n",
              "      fill: #174EA6;\n",
              "    }\n",
              "\n",
              "    [theme=dark] .colab-df-convert {\n",
              "      background-color: #3B4455;\n",
              "      fill: #D2E3FC;\n",
              "    }\n",
              "\n",
              "    [theme=dark] .colab-df-convert:hover {\n",
              "      background-color: #434B5C;\n",
              "      box-shadow: 0px 1px 3px 1px rgba(0, 0, 0, 0.15);\n",
              "      filter: drop-shadow(0px 1px 2px rgba(0, 0, 0, 0.3));\n",
              "      fill: #FFFFFF;\n",
              "    }\n",
              "  </style>\n",
              "\n",
              "      <script>\n",
              "        const buttonEl =\n",
              "          document.querySelector('#df-573bd05f-62fd-45ef-979b-05cdd0ce1ea1 button.colab-df-convert');\n",
              "        buttonEl.style.display =\n",
              "          google.colab.kernel.accessAllowed ? 'block' : 'none';\n",
              "\n",
              "        async function convertToInteractive(key) {\n",
              "          const element = document.querySelector('#df-573bd05f-62fd-45ef-979b-05cdd0ce1ea1');\n",
              "          const dataTable =\n",
              "            await google.colab.kernel.invokeFunction('convertToInteractive',\n",
              "                                                     [key], {});\n",
              "          if (!dataTable) return;\n",
              "\n",
              "          const docLinkHtml = 'Like what you see? Visit the ' +\n",
              "            '<a target=\"_blank\" href=https://colab.research.google.com/notebooks/data_table.ipynb>data table notebook</a>'\n",
              "            + ' to learn more about interactive tables.';\n",
              "          element.innerHTML = '';\n",
              "          dataTable['output_type'] = 'display_data';\n",
              "          await google.colab.output.renderOutput(dataTable, element);\n",
              "          const docLink = document.createElement('div');\n",
              "          docLink.innerHTML = docLinkHtml;\n",
              "          element.appendChild(docLink);\n",
              "        }\n",
              "      </script>\n",
              "    </div>\n",
              "  </div>\n",
              "  "
            ]
          },
          "metadata": {},
          "execution_count": 6
        }
      ],
      "source": [
        "df[df['keahlian'] == 'Pemula']"
      ]
    },
    {
      "cell_type": "code",
      "execution_count": null,
      "metadata": {
        "colab": {
          "base_uri": "https://localhost:8080/",
          "height": 423
        },
        "id": "qTWQp615bgHq",
        "outputId": "2afaed9b-cd4c-4202-98db-a4e68d12e6df"
      },
      "outputs": [
        {
          "output_type": "execute_result",
          "data": {
            "text/plain": [
              "      gunungID     nama_gunung  ketinggian      kota provinsi_gunung  \\\n",
              "0            1          Arjuno        3339    Malang      Jawa Timur   \n",
              "2            1          Arjuno        3339    Malang      Jawa Timur   \n",
              "6            1          Arjuno        3339    Malang      Jawa Timur   \n",
              "9            1          Arjuno        3339    Malang      Jawa Timur   \n",
              "16           1          Arjuno        3339    Malang      Jawa Timur   \n",
              "...        ...             ...         ...       ...             ...   \n",
              "5920       248  Pantai Siombak        3700  Tolikara           Papua   \n",
              "5925       248  Pantai Siombak        3700  Tolikara           Papua   \n",
              "5927       248  Pantai Siombak        3700  Tolikara           Papua   \n",
              "5931       248  Pantai Siombak        3700  Tolikara           Papua   \n",
              "5932       248  Pantai Siombak        3700  Tolikara           Papua   \n",
              "\n",
              "     provinsi_user  userID              name keahlian tingkat_kesulitan  \n",
              "0       Jawa Timur      29    Juniper Campos   Sedang             Sulit  \n",
              "2       Jawa Timur     159    Genevieve Hail   Sedang             Sulit  \n",
              "6       Jawa Timur     826       Yahir Bauer   Sedang             Sulit  \n",
              "9       Jawa Timur    1285     Hadley Baxter   Sedang             Sulit  \n",
              "16      Jawa Timur    2228       Blaise Mack   Sedang             Sulit  \n",
              "...            ...     ...               ...      ...               ...  \n",
              "5920         Papua    3880  Vicente Schwartz   Sedang             Sulit  \n",
              "5925         Papua    4486  Davian Daugherty   Sedang             Sulit  \n",
              "5927         Papua    4516     Israel Lester   Sedang             Sulit  \n",
              "5931         Papua    4891     Jordan McCall   Sedang             Sulit  \n",
              "5932         Papua    4929   Aliza Christian   Sedang             Sulit  \n",
              "\n",
              "[2100 rows x 10 columns]"
            ],
            "text/html": [
              "\n",
              "  <div id=\"df-1f67ad66-34e4-460a-bbd8-3c24903a5f89\">\n",
              "    <div class=\"colab-df-container\">\n",
              "      <div>\n",
              "<style scoped>\n",
              "    .dataframe tbody tr th:only-of-type {\n",
              "        vertical-align: middle;\n",
              "    }\n",
              "\n",
              "    .dataframe tbody tr th {\n",
              "        vertical-align: top;\n",
              "    }\n",
              "\n",
              "    .dataframe thead th {\n",
              "        text-align: right;\n",
              "    }\n",
              "</style>\n",
              "<table border=\"1\" class=\"dataframe\">\n",
              "  <thead>\n",
              "    <tr style=\"text-align: right;\">\n",
              "      <th></th>\n",
              "      <th>gunungID</th>\n",
              "      <th>nama_gunung</th>\n",
              "      <th>ketinggian</th>\n",
              "      <th>kota</th>\n",
              "      <th>provinsi_gunung</th>\n",
              "      <th>provinsi_user</th>\n",
              "      <th>userID</th>\n",
              "      <th>name</th>\n",
              "      <th>keahlian</th>\n",
              "      <th>tingkat_kesulitan</th>\n",
              "    </tr>\n",
              "  </thead>\n",
              "  <tbody>\n",
              "    <tr>\n",
              "      <th>0</th>\n",
              "      <td>1</td>\n",
              "      <td>Arjuno</td>\n",
              "      <td>3339</td>\n",
              "      <td>Malang</td>\n",
              "      <td>Jawa Timur</td>\n",
              "      <td>Jawa Timur</td>\n",
              "      <td>29</td>\n",
              "      <td>Juniper Campos</td>\n",
              "      <td>Sedang</td>\n",
              "      <td>Sulit</td>\n",
              "    </tr>\n",
              "    <tr>\n",
              "      <th>2</th>\n",
              "      <td>1</td>\n",
              "      <td>Arjuno</td>\n",
              "      <td>3339</td>\n",
              "      <td>Malang</td>\n",
              "      <td>Jawa Timur</td>\n",
              "      <td>Jawa Timur</td>\n",
              "      <td>159</td>\n",
              "      <td>Genevieve Hail</td>\n",
              "      <td>Sedang</td>\n",
              "      <td>Sulit</td>\n",
              "    </tr>\n",
              "    <tr>\n",
              "      <th>6</th>\n",
              "      <td>1</td>\n",
              "      <td>Arjuno</td>\n",
              "      <td>3339</td>\n",
              "      <td>Malang</td>\n",
              "      <td>Jawa Timur</td>\n",
              "      <td>Jawa Timur</td>\n",
              "      <td>826</td>\n",
              "      <td>Yahir Bauer</td>\n",
              "      <td>Sedang</td>\n",
              "      <td>Sulit</td>\n",
              "    </tr>\n",
              "    <tr>\n",
              "      <th>9</th>\n",
              "      <td>1</td>\n",
              "      <td>Arjuno</td>\n",
              "      <td>3339</td>\n",
              "      <td>Malang</td>\n",
              "      <td>Jawa Timur</td>\n",
              "      <td>Jawa Timur</td>\n",
              "      <td>1285</td>\n",
              "      <td>Hadley Baxter</td>\n",
              "      <td>Sedang</td>\n",
              "      <td>Sulit</td>\n",
              "    </tr>\n",
              "    <tr>\n",
              "      <th>16</th>\n",
              "      <td>1</td>\n",
              "      <td>Arjuno</td>\n",
              "      <td>3339</td>\n",
              "      <td>Malang</td>\n",
              "      <td>Jawa Timur</td>\n",
              "      <td>Jawa Timur</td>\n",
              "      <td>2228</td>\n",
              "      <td>Blaise Mack</td>\n",
              "      <td>Sedang</td>\n",
              "      <td>Sulit</td>\n",
              "    </tr>\n",
              "    <tr>\n",
              "      <th>...</th>\n",
              "      <td>...</td>\n",
              "      <td>...</td>\n",
              "      <td>...</td>\n",
              "      <td>...</td>\n",
              "      <td>...</td>\n",
              "      <td>...</td>\n",
              "      <td>...</td>\n",
              "      <td>...</td>\n",
              "      <td>...</td>\n",
              "      <td>...</td>\n",
              "    </tr>\n",
              "    <tr>\n",
              "      <th>5920</th>\n",
              "      <td>248</td>\n",
              "      <td>Pantai Siombak</td>\n",
              "      <td>3700</td>\n",
              "      <td>Tolikara</td>\n",
              "      <td>Papua</td>\n",
              "      <td>Papua</td>\n",
              "      <td>3880</td>\n",
              "      <td>Vicente Schwartz</td>\n",
              "      <td>Sedang</td>\n",
              "      <td>Sulit</td>\n",
              "    </tr>\n",
              "    <tr>\n",
              "      <th>5925</th>\n",
              "      <td>248</td>\n",
              "      <td>Pantai Siombak</td>\n",
              "      <td>3700</td>\n",
              "      <td>Tolikara</td>\n",
              "      <td>Papua</td>\n",
              "      <td>Papua</td>\n",
              "      <td>4486</td>\n",
              "      <td>Davian Daugherty</td>\n",
              "      <td>Sedang</td>\n",
              "      <td>Sulit</td>\n",
              "    </tr>\n",
              "    <tr>\n",
              "      <th>5927</th>\n",
              "      <td>248</td>\n",
              "      <td>Pantai Siombak</td>\n",
              "      <td>3700</td>\n",
              "      <td>Tolikara</td>\n",
              "      <td>Papua</td>\n",
              "      <td>Papua</td>\n",
              "      <td>4516</td>\n",
              "      <td>Israel Lester</td>\n",
              "      <td>Sedang</td>\n",
              "      <td>Sulit</td>\n",
              "    </tr>\n",
              "    <tr>\n",
              "      <th>5931</th>\n",
              "      <td>248</td>\n",
              "      <td>Pantai Siombak</td>\n",
              "      <td>3700</td>\n",
              "      <td>Tolikara</td>\n",
              "      <td>Papua</td>\n",
              "      <td>Papua</td>\n",
              "      <td>4891</td>\n",
              "      <td>Jordan McCall</td>\n",
              "      <td>Sedang</td>\n",
              "      <td>Sulit</td>\n",
              "    </tr>\n",
              "    <tr>\n",
              "      <th>5932</th>\n",
              "      <td>248</td>\n",
              "      <td>Pantai Siombak</td>\n",
              "      <td>3700</td>\n",
              "      <td>Tolikara</td>\n",
              "      <td>Papua</td>\n",
              "      <td>Papua</td>\n",
              "      <td>4929</td>\n",
              "      <td>Aliza Christian</td>\n",
              "      <td>Sedang</td>\n",
              "      <td>Sulit</td>\n",
              "    </tr>\n",
              "  </tbody>\n",
              "</table>\n",
              "<p>2100 rows × 10 columns</p>\n",
              "</div>\n",
              "      <button class=\"colab-df-convert\" onclick=\"convertToInteractive('df-1f67ad66-34e4-460a-bbd8-3c24903a5f89')\"\n",
              "              title=\"Convert this dataframe to an interactive table.\"\n",
              "              style=\"display:none;\">\n",
              "        \n",
              "  <svg xmlns=\"http://www.w3.org/2000/svg\" height=\"24px\"viewBox=\"0 0 24 24\"\n",
              "       width=\"24px\">\n",
              "    <path d=\"M0 0h24v24H0V0z\" fill=\"none\"/>\n",
              "    <path d=\"M18.56 5.44l.94 2.06.94-2.06 2.06-.94-2.06-.94-.94-2.06-.94 2.06-2.06.94zm-11 1L8.5 8.5l.94-2.06 2.06-.94-2.06-.94L8.5 2.5l-.94 2.06-2.06.94zm10 10l.94 2.06.94-2.06 2.06-.94-2.06-.94-.94-2.06-.94 2.06-2.06.94z\"/><path d=\"M17.41 7.96l-1.37-1.37c-.4-.4-.92-.59-1.43-.59-.52 0-1.04.2-1.43.59L10.3 9.45l-7.72 7.72c-.78.78-.78 2.05 0 2.83L4 21.41c.39.39.9.59 1.41.59.51 0 1.02-.2 1.41-.59l7.78-7.78 2.81-2.81c.8-.78.8-2.07 0-2.86zM5.41 20L4 18.59l7.72-7.72 1.47 1.35L5.41 20z\"/>\n",
              "  </svg>\n",
              "      </button>\n",
              "      \n",
              "  <style>\n",
              "    .colab-df-container {\n",
              "      display:flex;\n",
              "      flex-wrap:wrap;\n",
              "      gap: 12px;\n",
              "    }\n",
              "\n",
              "    .colab-df-convert {\n",
              "      background-color: #E8F0FE;\n",
              "      border: none;\n",
              "      border-radius: 50%;\n",
              "      cursor: pointer;\n",
              "      display: none;\n",
              "      fill: #1967D2;\n",
              "      height: 32px;\n",
              "      padding: 0 0 0 0;\n",
              "      width: 32px;\n",
              "    }\n",
              "\n",
              "    .colab-df-convert:hover {\n",
              "      background-color: #E2EBFA;\n",
              "      box-shadow: 0px 1px 2px rgba(60, 64, 67, 0.3), 0px 1px 3px 1px rgba(60, 64, 67, 0.15);\n",
              "      fill: #174EA6;\n",
              "    }\n",
              "\n",
              "    [theme=dark] .colab-df-convert {\n",
              "      background-color: #3B4455;\n",
              "      fill: #D2E3FC;\n",
              "    }\n",
              "\n",
              "    [theme=dark] .colab-df-convert:hover {\n",
              "      background-color: #434B5C;\n",
              "      box-shadow: 0px 1px 3px 1px rgba(0, 0, 0, 0.15);\n",
              "      filter: drop-shadow(0px 1px 2px rgba(0, 0, 0, 0.3));\n",
              "      fill: #FFFFFF;\n",
              "    }\n",
              "  </style>\n",
              "\n",
              "      <script>\n",
              "        const buttonEl =\n",
              "          document.querySelector('#df-1f67ad66-34e4-460a-bbd8-3c24903a5f89 button.colab-df-convert');\n",
              "        buttonEl.style.display =\n",
              "          google.colab.kernel.accessAllowed ? 'block' : 'none';\n",
              "\n",
              "        async function convertToInteractive(key) {\n",
              "          const element = document.querySelector('#df-1f67ad66-34e4-460a-bbd8-3c24903a5f89');\n",
              "          const dataTable =\n",
              "            await google.colab.kernel.invokeFunction('convertToInteractive',\n",
              "                                                     [key], {});\n",
              "          if (!dataTable) return;\n",
              "\n",
              "          const docLinkHtml = 'Like what you see? Visit the ' +\n",
              "            '<a target=\"_blank\" href=https://colab.research.google.com/notebooks/data_table.ipynb>data table notebook</a>'\n",
              "            + ' to learn more about interactive tables.';\n",
              "          element.innerHTML = '';\n",
              "          dataTable['output_type'] = 'display_data';\n",
              "          await google.colab.output.renderOutput(dataTable, element);\n",
              "          const docLink = document.createElement('div');\n",
              "          docLink.innerHTML = docLinkHtml;\n",
              "          element.appendChild(docLink);\n",
              "        }\n",
              "      </script>\n",
              "    </div>\n",
              "  </div>\n",
              "  "
            ]
          },
          "metadata": {},
          "execution_count": 7
        }
      ],
      "source": [
        "df[df['keahlian'] == 'Sedang']"
      ]
    },
    {
      "cell_type": "code",
      "execution_count": null,
      "metadata": {
        "colab": {
          "base_uri": "https://localhost:8080/",
          "height": 423
        },
        "id": "iFdBn-1abhqd",
        "outputId": "61cc96f2-a75b-4fc1-955f-ad3f6bd99e65"
      },
      "outputs": [
        {
          "output_type": "execute_result",
          "data": {
            "text/plain": [
              "      gunungID     nama_gunung  ketinggian      kota provinsi_gunung  \\\n",
              "1            1          Arjuno        3339    Malang      Jawa Timur   \n",
              "3            1          Arjuno        3339    Malang      Jawa Timur   \n",
              "5            1          Arjuno        3339    Malang      Jawa Timur   \n",
              "7            1          Arjuno        3339    Malang      Jawa Timur   \n",
              "10           1          Arjuno        3339    Malang      Jawa Timur   \n",
              "...        ...             ...         ...       ...             ...   \n",
              "5923       248  Pantai Siombak        3700  Tolikara           Papua   \n",
              "5926       248  Pantai Siombak        3700  Tolikara           Papua   \n",
              "5928       248  Pantai Siombak        3700  Tolikara           Papua   \n",
              "5929       248  Pantai Siombak        3700  Tolikara           Papua   \n",
              "5933       248  Pantai Siombak        3700  Tolikara           Papua   \n",
              "\n",
              "     provinsi_user  userID                name keahlian tingkat_kesulitan  \n",
              "1       Jawa Timur      39        Reign Taylor    Mahir             Sulit  \n",
              "3       Jawa Timur     427        Madison Kerr    Mahir             Sulit  \n",
              "5       Jawa Timur     776      Hugh Zimmerman    Mahir             Sulit  \n",
              "7       Jawa Timur    1027          Kylie Love    Mahir             Sulit  \n",
              "10      Jawa Timur    1288        Samuel Trejo    Mahir             Sulit  \n",
              "...            ...     ...                 ...      ...               ...  \n",
              "5923         Papua    4234         Tatum Johns    Mahir             Sulit  \n",
              "5926         Papua    4487    Magdalena Greene    Mahir             Sulit  \n",
              "5928         Papua    4589      Milani Fleming    Mahir             Sulit  \n",
              "5929         Papua    4833  Lilianna O’Donnell    Mahir             Sulit  \n",
              "5933         Papua    4976         Kylan Gates    Mahir             Sulit  \n",
              "\n",
              "[1928 rows x 10 columns]"
            ],
            "text/html": [
              "\n",
              "  <div id=\"df-1a3862ee-0218-476e-bf20-02e7a4acb81a\">\n",
              "    <div class=\"colab-df-container\">\n",
              "      <div>\n",
              "<style scoped>\n",
              "    .dataframe tbody tr th:only-of-type {\n",
              "        vertical-align: middle;\n",
              "    }\n",
              "\n",
              "    .dataframe tbody tr th {\n",
              "        vertical-align: top;\n",
              "    }\n",
              "\n",
              "    .dataframe thead th {\n",
              "        text-align: right;\n",
              "    }\n",
              "</style>\n",
              "<table border=\"1\" class=\"dataframe\">\n",
              "  <thead>\n",
              "    <tr style=\"text-align: right;\">\n",
              "      <th></th>\n",
              "      <th>gunungID</th>\n",
              "      <th>nama_gunung</th>\n",
              "      <th>ketinggian</th>\n",
              "      <th>kota</th>\n",
              "      <th>provinsi_gunung</th>\n",
              "      <th>provinsi_user</th>\n",
              "      <th>userID</th>\n",
              "      <th>name</th>\n",
              "      <th>keahlian</th>\n",
              "      <th>tingkat_kesulitan</th>\n",
              "    </tr>\n",
              "  </thead>\n",
              "  <tbody>\n",
              "    <tr>\n",
              "      <th>1</th>\n",
              "      <td>1</td>\n",
              "      <td>Arjuno</td>\n",
              "      <td>3339</td>\n",
              "      <td>Malang</td>\n",
              "      <td>Jawa Timur</td>\n",
              "      <td>Jawa Timur</td>\n",
              "      <td>39</td>\n",
              "      <td>Reign Taylor</td>\n",
              "      <td>Mahir</td>\n",
              "      <td>Sulit</td>\n",
              "    </tr>\n",
              "    <tr>\n",
              "      <th>3</th>\n",
              "      <td>1</td>\n",
              "      <td>Arjuno</td>\n",
              "      <td>3339</td>\n",
              "      <td>Malang</td>\n",
              "      <td>Jawa Timur</td>\n",
              "      <td>Jawa Timur</td>\n",
              "      <td>427</td>\n",
              "      <td>Madison Kerr</td>\n",
              "      <td>Mahir</td>\n",
              "      <td>Sulit</td>\n",
              "    </tr>\n",
              "    <tr>\n",
              "      <th>5</th>\n",
              "      <td>1</td>\n",
              "      <td>Arjuno</td>\n",
              "      <td>3339</td>\n",
              "      <td>Malang</td>\n",
              "      <td>Jawa Timur</td>\n",
              "      <td>Jawa Timur</td>\n",
              "      <td>776</td>\n",
              "      <td>Hugh Zimmerman</td>\n",
              "      <td>Mahir</td>\n",
              "      <td>Sulit</td>\n",
              "    </tr>\n",
              "    <tr>\n",
              "      <th>7</th>\n",
              "      <td>1</td>\n",
              "      <td>Arjuno</td>\n",
              "      <td>3339</td>\n",
              "      <td>Malang</td>\n",
              "      <td>Jawa Timur</td>\n",
              "      <td>Jawa Timur</td>\n",
              "      <td>1027</td>\n",
              "      <td>Kylie Love</td>\n",
              "      <td>Mahir</td>\n",
              "      <td>Sulit</td>\n",
              "    </tr>\n",
              "    <tr>\n",
              "      <th>10</th>\n",
              "      <td>1</td>\n",
              "      <td>Arjuno</td>\n",
              "      <td>3339</td>\n",
              "      <td>Malang</td>\n",
              "      <td>Jawa Timur</td>\n",
              "      <td>Jawa Timur</td>\n",
              "      <td>1288</td>\n",
              "      <td>Samuel Trejo</td>\n",
              "      <td>Mahir</td>\n",
              "      <td>Sulit</td>\n",
              "    </tr>\n",
              "    <tr>\n",
              "      <th>...</th>\n",
              "      <td>...</td>\n",
              "      <td>...</td>\n",
              "      <td>...</td>\n",
              "      <td>...</td>\n",
              "      <td>...</td>\n",
              "      <td>...</td>\n",
              "      <td>...</td>\n",
              "      <td>...</td>\n",
              "      <td>...</td>\n",
              "      <td>...</td>\n",
              "    </tr>\n",
              "    <tr>\n",
              "      <th>5923</th>\n",
              "      <td>248</td>\n",
              "      <td>Pantai Siombak</td>\n",
              "      <td>3700</td>\n",
              "      <td>Tolikara</td>\n",
              "      <td>Papua</td>\n",
              "      <td>Papua</td>\n",
              "      <td>4234</td>\n",
              "      <td>Tatum Johns</td>\n",
              "      <td>Mahir</td>\n",
              "      <td>Sulit</td>\n",
              "    </tr>\n",
              "    <tr>\n",
              "      <th>5926</th>\n",
              "      <td>248</td>\n",
              "      <td>Pantai Siombak</td>\n",
              "      <td>3700</td>\n",
              "      <td>Tolikara</td>\n",
              "      <td>Papua</td>\n",
              "      <td>Papua</td>\n",
              "      <td>4487</td>\n",
              "      <td>Magdalena Greene</td>\n",
              "      <td>Mahir</td>\n",
              "      <td>Sulit</td>\n",
              "    </tr>\n",
              "    <tr>\n",
              "      <th>5928</th>\n",
              "      <td>248</td>\n",
              "      <td>Pantai Siombak</td>\n",
              "      <td>3700</td>\n",
              "      <td>Tolikara</td>\n",
              "      <td>Papua</td>\n",
              "      <td>Papua</td>\n",
              "      <td>4589</td>\n",
              "      <td>Milani Fleming</td>\n",
              "      <td>Mahir</td>\n",
              "      <td>Sulit</td>\n",
              "    </tr>\n",
              "    <tr>\n",
              "      <th>5929</th>\n",
              "      <td>248</td>\n",
              "      <td>Pantai Siombak</td>\n",
              "      <td>3700</td>\n",
              "      <td>Tolikara</td>\n",
              "      <td>Papua</td>\n",
              "      <td>Papua</td>\n",
              "      <td>4833</td>\n",
              "      <td>Lilianna O’Donnell</td>\n",
              "      <td>Mahir</td>\n",
              "      <td>Sulit</td>\n",
              "    </tr>\n",
              "    <tr>\n",
              "      <th>5933</th>\n",
              "      <td>248</td>\n",
              "      <td>Pantai Siombak</td>\n",
              "      <td>3700</td>\n",
              "      <td>Tolikara</td>\n",
              "      <td>Papua</td>\n",
              "      <td>Papua</td>\n",
              "      <td>4976</td>\n",
              "      <td>Kylan Gates</td>\n",
              "      <td>Mahir</td>\n",
              "      <td>Sulit</td>\n",
              "    </tr>\n",
              "  </tbody>\n",
              "</table>\n",
              "<p>1928 rows × 10 columns</p>\n",
              "</div>\n",
              "      <button class=\"colab-df-convert\" onclick=\"convertToInteractive('df-1a3862ee-0218-476e-bf20-02e7a4acb81a')\"\n",
              "              title=\"Convert this dataframe to an interactive table.\"\n",
              "              style=\"display:none;\">\n",
              "        \n",
              "  <svg xmlns=\"http://www.w3.org/2000/svg\" height=\"24px\"viewBox=\"0 0 24 24\"\n",
              "       width=\"24px\">\n",
              "    <path d=\"M0 0h24v24H0V0z\" fill=\"none\"/>\n",
              "    <path d=\"M18.56 5.44l.94 2.06.94-2.06 2.06-.94-2.06-.94-.94-2.06-.94 2.06-2.06.94zm-11 1L8.5 8.5l.94-2.06 2.06-.94-2.06-.94L8.5 2.5l-.94 2.06-2.06.94zm10 10l.94 2.06.94-2.06 2.06-.94-2.06-.94-.94-2.06-.94 2.06-2.06.94z\"/><path d=\"M17.41 7.96l-1.37-1.37c-.4-.4-.92-.59-1.43-.59-.52 0-1.04.2-1.43.59L10.3 9.45l-7.72 7.72c-.78.78-.78 2.05 0 2.83L4 21.41c.39.39.9.59 1.41.59.51 0 1.02-.2 1.41-.59l7.78-7.78 2.81-2.81c.8-.78.8-2.07 0-2.86zM5.41 20L4 18.59l7.72-7.72 1.47 1.35L5.41 20z\"/>\n",
              "  </svg>\n",
              "      </button>\n",
              "      \n",
              "  <style>\n",
              "    .colab-df-container {\n",
              "      display:flex;\n",
              "      flex-wrap:wrap;\n",
              "      gap: 12px;\n",
              "    }\n",
              "\n",
              "    .colab-df-convert {\n",
              "      background-color: #E8F0FE;\n",
              "      border: none;\n",
              "      border-radius: 50%;\n",
              "      cursor: pointer;\n",
              "      display: none;\n",
              "      fill: #1967D2;\n",
              "      height: 32px;\n",
              "      padding: 0 0 0 0;\n",
              "      width: 32px;\n",
              "    }\n",
              "\n",
              "    .colab-df-convert:hover {\n",
              "      background-color: #E2EBFA;\n",
              "      box-shadow: 0px 1px 2px rgba(60, 64, 67, 0.3), 0px 1px 3px 1px rgba(60, 64, 67, 0.15);\n",
              "      fill: #174EA6;\n",
              "    }\n",
              "\n",
              "    [theme=dark] .colab-df-convert {\n",
              "      background-color: #3B4455;\n",
              "      fill: #D2E3FC;\n",
              "    }\n",
              "\n",
              "    [theme=dark] .colab-df-convert:hover {\n",
              "      background-color: #434B5C;\n",
              "      box-shadow: 0px 1px 3px 1px rgba(0, 0, 0, 0.15);\n",
              "      filter: drop-shadow(0px 1px 2px rgba(0, 0, 0, 0.3));\n",
              "      fill: #FFFFFF;\n",
              "    }\n",
              "  </style>\n",
              "\n",
              "      <script>\n",
              "        const buttonEl =\n",
              "          document.querySelector('#df-1a3862ee-0218-476e-bf20-02e7a4acb81a button.colab-df-convert');\n",
              "        buttonEl.style.display =\n",
              "          google.colab.kernel.accessAllowed ? 'block' : 'none';\n",
              "\n",
              "        async function convertToInteractive(key) {\n",
              "          const element = document.querySelector('#df-1a3862ee-0218-476e-bf20-02e7a4acb81a');\n",
              "          const dataTable =\n",
              "            await google.colab.kernel.invokeFunction('convertToInteractive',\n",
              "                                                     [key], {});\n",
              "          if (!dataTable) return;\n",
              "\n",
              "          const docLinkHtml = 'Like what you see? Visit the ' +\n",
              "            '<a target=\"_blank\" href=https://colab.research.google.com/notebooks/data_table.ipynb>data table notebook</a>'\n",
              "            + ' to learn more about interactive tables.';\n",
              "          element.innerHTML = '';\n",
              "          dataTable['output_type'] = 'display_data';\n",
              "          await google.colab.output.renderOutput(dataTable, element);\n",
              "          const docLink = document.createElement('div');\n",
              "          docLink.innerHTML = docLinkHtml;\n",
              "          element.appendChild(docLink);\n",
              "        }\n",
              "      </script>\n",
              "    </div>\n",
              "  </div>\n",
              "  "
            ]
          },
          "metadata": {},
          "execution_count": 8
        }
      ],
      "source": [
        "df[df['keahlian'] == 'Mahir']"
      ]
    },
    {
      "cell_type": "code",
      "execution_count": null,
      "metadata": {
        "colab": {
          "base_uri": "https://localhost:8080/"
        },
        "id": "Ylj_sYNW8QBT",
        "outputId": "95036b8a-83ad-4b1e-e19d-5b41ca8a81e9"
      },
      "outputs": [
        {
          "output_type": "stream",
          "name": "stdout",
          "text": [
            "Number of rows: 5934\n",
            "Number of columns: 10\n"
          ]
        }
      ],
      "source": [
        "# Print the row and column numbers\n",
        "num_rows, num_columns = df.shape\n",
        "print(\"Number of rows:\", num_rows)\n",
        "print(\"Number of columns:\", num_columns)"
      ]
    },
    {
      "cell_type": "code",
      "execution_count": null,
      "metadata": {
        "id": "Sr0xl5Uo1CE2"
      },
      "outputs": [],
      "source": [
        "df.rename(columns={'username ':'name'}, inplace = True)"
      ]
    },
    {
      "cell_type": "code",
      "execution_count": null,
      "metadata": {
        "colab": {
          "base_uri": "https://localhost:8080/"
        },
        "id": "Mt_c1cyLUdI9",
        "outputId": "af25be89-8288-4bc7-a06f-5d2876809b7d"
      },
      "outputs": [
        {
          "output_type": "stream",
          "name": "stdout",
          "text": [
            "<class 'pandas.core.frame.DataFrame'>\n",
            "RangeIndex: 5934 entries, 0 to 5933\n",
            "Data columns (total 10 columns):\n",
            " #   Column             Non-Null Count  Dtype \n",
            "---  ------             --------------  ----- \n",
            " 0   gunungID           5934 non-null   int64 \n",
            " 1   nama_gunung        5934 non-null   object\n",
            " 2   ketinggian         5934 non-null   int64 \n",
            " 3   kota               5934 non-null   object\n",
            " 4   provinsi_gunung    5934 non-null   object\n",
            " 5   provinsi_user      5934 non-null   object\n",
            " 6   userID             5934 non-null   int64 \n",
            " 7   name               5934 non-null   object\n",
            " 8   keahlian           5934 non-null   object\n",
            " 9   tingkat_kesulitan  5934 non-null   object\n",
            "dtypes: int64(3), object(7)\n",
            "memory usage: 463.7+ KB\n"
          ]
        }
      ],
      "source": [
        "df.info()"
      ]
    },
    {
      "cell_type": "code",
      "execution_count": null,
      "metadata": {
        "id": "SYFb1QR_mc_5"
      },
      "outputs": [],
      "source": [
        "df[\"gunungID\"] = df[\"gunungID\"].astype(\"string\")\n",
        "df[\"nama_gunung\"] = df[\"nama_gunung\"].astype(\"string\")\n",
        "df[\"ketinggian\"] = df[\"ketinggian\"].astype(\"int64\")\n",
        "df[\"kota\"] = df[\"kota\"].astype(\"string\")\n",
        "df[\"provinsi_gunung\"] = df[\"provinsi_gunung\"].astype(\"string\")\n",
        "df[\"provinsi_user\"] = df[\"provinsi_user\"].astype(\"string\")\n",
        "df[\"tingkat_kesulitan\"] = df[\"tingkat_kesulitan\"].astype(\"string\")\n",
        "df[\"userID\"] = df[\"userID\"].astype(\"string\")\n",
        "df[\"name\"] = df[\"name\"].astype(\"string\")\n",
        "df[\"keahlian\"] = df[\"keahlian\"].astype(\"string\")"
      ]
    },
    {
      "cell_type": "markdown",
      "metadata": {
        "id": "5VDH3B7N9W-T"
      },
      "source": [
        "#Recommendation mountain by keahlian"
      ]
    },
    {
      "cell_type": "code",
      "execution_count": null,
      "metadata": {
        "id": "ZIdcIi7y9aCK"
      },
      "outputs": [],
      "source": [
        "# Filtering the rare terms.\n",
        "df['nama_gunung'] = df['nama_gunung'].apply(lambda x: f\"'{x}'\")\n",
        "df['nama_gunung'] = df['nama_gunung'].apply(lambda x: f'[{x}]')\n",
        "df['nama_gunung'] = list(df['nama_gunung'].astype(str))"
      ]
    },
    {
      "cell_type": "code",
      "execution_count": null,
      "metadata": {
        "colab": {
          "base_uri": "https://localhost:8080/"
        },
        "id": "qIYT4jDg94Ix",
        "outputId": "4014e7cf-4219-4125-cc2c-9e3c5e579190"
      },
      "outputs": [
        {
          "output_type": "execute_result",
          "data": {
            "text/plain": [
              "array([list(['Arjuno']), list(['Arjuno']), list(['Arjuno']),\n",
              "       list(['Arjuno']), list(['Arjuno'])], dtype=object)"
            ]
          },
          "metadata": {},
          "execution_count": 14
        }
      ],
      "source": [
        "import ast\n",
        "\n",
        "df['nama_gunung'] = [ast.literal_eval(i) for i in df['nama_gunung']]\n",
        "df['nama_gunung'].values[:5]"
      ]
    },
    {
      "cell_type": "code",
      "execution_count": null,
      "metadata": {
        "colab": {
          "base_uri": "https://localhost:8080/"
        },
        "id": "yXblKWjEAHHt",
        "outputId": "39d2ecb2-3635-4a8a-ae84-56bdf891a2be"
      },
      "outputs": [
        {
          "output_type": "stream",
          "name": "stdout",
          "text": [
            "Number of rows in training set: 5340\n",
            "Number of rows in validation set: 297\n",
            "Number of rows in test set: 297\n"
          ]
        }
      ],
      "source": [
        "from sklearn.model_selection import train_test_split\n",
        "\n",
        "test_split = 0.1\n",
        "\n",
        "# Initial train and test split.\n",
        "train_df, test_df = train_test_split(\n",
        "    df,\n",
        "    test_size=test_split,\n",
        "    stratify=df[\"nama_gunung\"].values,\n",
        "    random_state = 42\n",
        ")\n",
        "\n",
        "# Splitting the test set further into validation\n",
        "# and new test sets.\n",
        "val_df = test_df.sample(frac=0.5)\n",
        "test_df.drop(val_df.index, inplace=True)\n",
        "\n",
        "print(f\"Number of rows in training set: {len(train_df)}\")\n",
        "print(f\"Number of rows in validation set: {len(val_df)}\")\n",
        "print(f\"Number of rows in test set: {len(test_df)}\")"
      ]
    },
    {
      "cell_type": "code",
      "execution_count": null,
      "metadata": {
        "colab": {
          "base_uri": "https://localhost:8080/"
        },
        "id": "ZG_0HZWJ-8SX",
        "outputId": "6e5c517e-2642-48e3-c0a2-438d3f7d00e2"
      },
      "outputs": [
        {
          "output_type": "stream",
          "name": "stdout",
          "text": [
            "Vocabulary:\n",
            "\n",
            "['[UNK]', 'Bawakaraeng', 'Tambora', 'Sibela', 'Ambang', 'Ranaka', 'Padang', 'Egon', 'Colo', 'Binaiya', 'Lawu', 'Rinjani', 'Merpati', 'Gemawang', 'Seulawah Agam', 'Lompobatang', 'Bulusaraung', 'Namang', 'Mutis', 'Karangetang', 'Fatuleu', 'Puncak Jaya', 'Penanggungan', 'Muria', 'Lompobattang', 'Binembo', 'Mantalingajan', 'Liangpran', 'Jantur', 'Kerumut', 'Ibu', 'Dukono', 'Besar', 'Batur', 'Batu Tiban', 'Batu Jamak', 'Sirung', 'Mahawu', 'Lokon', 'Awu', 'Argapura', 'Purba', 'Murung', 'Kie Besi', 'Binaya', 'Bawang', 'Pangonan', 'Pamulut', 'Lumut', 'Kelimutu', 'Ile Ape', 'Telomoyo', 'Sumantri', 'Sesean', 'Rantemario', 'Pantai Siombak', 'Nokilalaki', 'Manglayang', 'Manggelum', 'Mandala', 'Lembah', 'Cleft', 'Aru', 'Tilongkabila', 'Tambusisi', 'Latimojong', 'Kendalisodo', 'Batu Benawa', 'Raung', 'Rantekombola', 'Buttu Kanduang', 'Bromo', 'Argopuro', 'Kukusan', 'Kembang', 'Inerie', 'Cemoro Sewu', 'Buttu Kabobong', 'Batu Rante', 'Merapi', 'Butak', 'Banda Api', 'Agung', 'Slamet', 'Sangeang Api', 'Ijen', 'Ebulobo', 'Yamin', 'Wilhelmus Zakaria', 'Welirang', 'Victory', 'Trikora', 'Semeru', 'Pegunungan Sudirman', 'Pegunungan Maoke', 'Panderman', 'Nona', 'Mamuya', 'Mahameru', 'Liman', 'Lambu', 'Kelud', 'Kawi', 'Gajah Mungkur', 'Bismarck', 'Arjuno', 'Punggur Besar', 'Patah', 'Merbabu', 'Gondosuli', 'Andong', 'Ungaran', 'Pulut-pulut', 'Prahu', 'Kelam', 'Bukit Raya', 'Sumbing', 'Pamaton', 'Sindoro', 'Ile Boleng', 'Klabat', 'Gamalama', 'Genuk']\n"
          ]
        }
      ],
      "source": [
        "terms = tf.ragged.constant(train_df[\"nama_gunung\"].values)\n",
        "lookup = tf.keras.layers.StringLookup(output_mode=\"multi_hot\")\n",
        "lookup.adapt(terms)\n",
        "vocab = lookup.get_vocabulary()\n",
        "\n",
        "\n",
        "def invert_multi_hot(encoded_labels):\n",
        "    \"\"\"Reverse a single multi-hot encoded label to a tuple of vocab terms.\"\"\"\n",
        "    hot_indices = np.argwhere(encoded_labels == 1.0)[..., 0]\n",
        "    return np.take(vocab, hot_indices)\n",
        "\n",
        "\n",
        "print(\"Vocabulary:\\n\")\n",
        "print(vocab)"
      ]
    },
    {
      "cell_type": "code",
      "execution_count": null,
      "metadata": {
        "colab": {
          "base_uri": "https://localhost:8080/"
        },
        "id": "Az2oMZJk_CZO",
        "outputId": "14d8cdae-f306-4905-b554-4d5dcdbd1df2"
      },
      "outputs": [
        {
          "output_type": "stream",
          "name": "stdout",
          "text": [
            "Done\n"
          ]
        }
      ],
      "source": [
        "with open(r'/content/nama_gunung.txt', 'w') as fp:\n",
        "    for item in vocab:\n",
        "        # write each item on a new line\n",
        "        fp.write(\"%s\\n\" % item)\n",
        "    print('Done')"
      ]
    },
    {
      "cell_type": "code",
      "execution_count": null,
      "metadata": {
        "id": "1A5gaI4Q_TL8"
      },
      "outputs": [],
      "source": [
        "max_seqlen = 15\n",
        "batch_size = 128\n",
        "padding_token = \"<pad>\"\n",
        "auto = tf.data.AUTOTUNE"
      ]
    },
    {
      "cell_type": "code",
      "execution_count": null,
      "metadata": {
        "id": "IdhH6Xal_XZy"
      },
      "outputs": [],
      "source": [
        "def make_dataset(dataframe, is_train=True):\n",
        "    labels = tf.ragged.constant(dataframe[\"nama_gunung\"].values)\n",
        "    label_binarized = lookup(labels).numpy()\n",
        "    dataset = tf.data.Dataset.from_tensor_slices(\n",
        "        (dataframe[\"keahlian\"].values, label_binarized)\n",
        "    )\n",
        "    dataset = dataset.shuffle(batch_size * 10) if is_train else dataset\n",
        "    return dataset.batch(batch_size)"
      ]
    },
    {
      "cell_type": "code",
      "execution_count": null,
      "metadata": {
        "id": "sK1L0OkC_d0K"
      },
      "outputs": [],
      "source": [
        "train_dataset = make_dataset(train_df, is_train=True)\n",
        "validation_dataset = make_dataset(val_df, is_train=False)\n",
        "test_dataset = make_dataset(test_df, is_train=False)"
      ]
    },
    {
      "cell_type": "code",
      "execution_count": null,
      "metadata": {
        "colab": {
          "base_uri": "https://localhost:8080/"
        },
        "id": "Q4FrRWsQAVyN",
        "outputId": "45ddc926-d991-4f53-bd3a-52e39bfe0745"
      },
      "outputs": [
        {
          "output_type": "stream",
          "name": "stdout",
          "text": [
            "3\n"
          ]
        }
      ],
      "source": [
        "vocabulary = set()\n",
        "df[\"keahlian\"].str.lower().str.split().apply(vocabulary.update)\n",
        "vocabulary_size = len(vocabulary)\n",
        "print(vocabulary_size)"
      ]
    },
    {
      "cell_type": "code",
      "execution_count": null,
      "metadata": {
        "id": "UcLZnU_9ApWA"
      },
      "outputs": [],
      "source": [
        "def vectorize_layer(vocabulary_size, text_dataset: np.ndarray) -> TextVectorization:\n",
        "      text_vectorizer = TextVectorization(max_tokens=vocabulary_size,\n",
        "                                          ngrams=2,\n",
        "                                          output_mode='tf_idf')\n",
        "      with tf.device(\"/CPU:0\"):\n",
        "        text_vectorizer.adapt(text_dataset)\n",
        "      return text_vectorizer"
      ]
    },
    {
      "cell_type": "code",
      "execution_count": null,
      "metadata": {
        "id": "uvBvkxJKAvpS"
      },
      "outputs": [],
      "source": [
        "text_batch, label_batch = next(iter(train_dataset))\n",
        "text_batch = text_batch.numpy()\n",
        "label_batch = label_batch.numpy()\n",
        "vectorize_layer = vectorize_layer(text_dataset=text_batch, vocabulary_size=vocabulary_size)"
      ]
    },
    {
      "cell_type": "code",
      "execution_count": null,
      "metadata": {
        "id": "vs3FEvpKCScf"
      },
      "outputs": [],
      "source": [
        "def make_model() -> tf.keras.Model:\n",
        "        raw_input = tf.keras.Input(shape=(1,), dtype=tf.string)\n",
        "        x = vectorize_layer(raw_input)\n",
        "        x = tf.keras.layers.Dense(512, activation='relu')(x)\n",
        "        x = tf.keras.layers.Dense(256, activation='relu')(x)\n",
        "        x = tf.keras.layers.Dense(128, activation='relu')(x)\n",
        "        predictions = tf.keras.layers.Dense(123, activation='sigmoid')(x)\n",
        "        model = tf.keras.Model(raw_input, predictions)\n",
        "        model.compile(loss='binary_crossentropy', optimizer='adam',\n",
        "                      metrics=['binary_accuracy'])\n",
        "        return model"
      ]
    },
    {
      "cell_type": "code",
      "execution_count": null,
      "metadata": {
        "colab": {
          "base_uri": "https://localhost:8080/"
        },
        "id": "d83gWBeFCkkC",
        "outputId": "4dffe4eb-87f3-454e-de58-d97fb7a66b4f"
      },
      "outputs": [
        {
          "output_type": "stream",
          "name": "stdout",
          "text": [
            "Epoch 1/20\n",
            "4/4 [==============================] - 3s 315ms/step - loss: 0.6825 - binary_accuracy: 0.6498 - val_loss: 0.6631 - val_binary_accuracy: 0.7656\n",
            "Epoch 2/20\n",
            "4/4 [==============================] - 0s 15ms/step - loss: 0.6453 - binary_accuracy: 0.8017 - val_loss: 0.6037 - val_binary_accuracy: 0.8666\n",
            "Epoch 3/20\n",
            "4/4 [==============================] - 0s 18ms/step - loss: 0.5664 - binary_accuracy: 0.8930 - val_loss: 0.4852 - val_binary_accuracy: 0.9334\n",
            "Epoch 4/20\n",
            "4/4 [==============================] - 0s 20ms/step - loss: 0.4251 - binary_accuracy: 0.9486 - val_loss: 0.3091 - val_binary_accuracy: 0.9701\n",
            "Epoch 5/20\n",
            "4/4 [==============================] - 0s 16ms/step - loss: 0.2462 - binary_accuracy: 0.9731 - val_loss: 0.1462 - val_binary_accuracy: 0.9758\n",
            "Epoch 6/20\n",
            "4/4 [==============================] - 0s 16ms/step - loss: 0.1119 - binary_accuracy: 0.9852 - val_loss: 0.0698 - val_binary_accuracy: 0.9919\n",
            "Epoch 7/20\n",
            "4/4 [==============================] - 0s 16ms/step - loss: 0.0627 - binary_accuracy: 0.9919 - val_loss: 0.0590 - val_binary_accuracy: 0.9919\n",
            "Epoch 8/20\n",
            "4/4 [==============================] - 0s 16ms/step - loss: 0.0601 - binary_accuracy: 0.9919 - val_loss: 0.0663 - val_binary_accuracy: 0.9919\n",
            "Epoch 9/20\n",
            "4/4 [==============================] - 0s 14ms/step - loss: 0.0656 - binary_accuracy: 0.9919 - val_loss: 0.0717 - val_binary_accuracy: 0.9919\n",
            "Epoch 10/20\n",
            "4/4 [==============================] - 0s 19ms/step - loss: 0.0675 - binary_accuracy: 0.9919 - val_loss: 0.0720 - val_binary_accuracy: 0.9919\n",
            "Epoch 11/20\n",
            "4/4 [==============================] - 0s 15ms/step - loss: 0.0644 - binary_accuracy: 0.9919 - val_loss: 0.0685 - val_binary_accuracy: 0.9919\n",
            "Epoch 12/20\n",
            "4/4 [==============================] - 0s 15ms/step - loss: 0.0587 - binary_accuracy: 0.9919 - val_loss: 0.0635 - val_binary_accuracy: 0.9919\n",
            "Epoch 13/20\n",
            "4/4 [==============================] - 0s 15ms/step - loss: 0.0526 - binary_accuracy: 0.9919 - val_loss: 0.0589 - val_binary_accuracy: 0.9919\n",
            "Epoch 14/20\n",
            "4/4 [==============================] - 0s 16ms/step - loss: 0.0480 - binary_accuracy: 0.9919 - val_loss: 0.0560 - val_binary_accuracy: 0.9919\n",
            "Epoch 15/20\n",
            "4/4 [==============================] - 0s 17ms/step - loss: 0.0454 - binary_accuracy: 0.9919 - val_loss: 0.0549 - val_binary_accuracy: 0.9919\n",
            "Epoch 16/20\n",
            "4/4 [==============================] - 0s 16ms/step - loss: 0.0446 - binary_accuracy: 0.9919 - val_loss: 0.0543 - val_binary_accuracy: 0.9919\n",
            "Epoch 17/20\n",
            "4/4 [==============================] - 0s 13ms/step - loss: 0.0442 - binary_accuracy: 0.9919 - val_loss: 0.0537 - val_binary_accuracy: 0.9919\n",
            "Epoch 18/20\n",
            "4/4 [==============================] - 0s 14ms/step - loss: 0.0437 - binary_accuracy: 0.9919 - val_loss: 0.0530 - val_binary_accuracy: 0.9919\n",
            "Epoch 19/20\n",
            "4/4 [==============================] - 0s 14ms/step - loss: 0.0433 - binary_accuracy: 0.9919 - val_loss: 0.0525 - val_binary_accuracy: 0.9919\n",
            "Epoch 20/20\n",
            "4/4 [==============================] - 0s 12ms/step - loss: 0.0430 - binary_accuracy: 0.9919 - val_loss: 0.0523 - val_binary_accuracy: 0.9919\n"
          ]
        }
      ],
      "source": [
        "epochs = 20\n",
        "\n",
        "shallow_mlp_model = make_model()\n",
        "\n",
        "history = shallow_mlp_model.fit(\n",
        "    text_batch, label_batch, validation_data=validation_dataset, epochs=epochs\n",
        ")"
      ]
    },
    {
      "cell_type": "code",
      "execution_count": null,
      "metadata": {
        "colab": {
          "base_uri": "https://localhost:8080/"
        },
        "id": "YGsePC8oXOJD",
        "outputId": "867cdf83-b32c-4705-b9db-87beaff4fe7a"
      },
      "outputs": [
        {
          "output_type": "stream",
          "name": "stdout",
          "text": [
            "3/3 [==============================] - 0s 7ms/step - loss: 0.0538 - binary_accuracy: 0.9919\n",
            "Categorical accuracy on the test set: 99.19%.\n"
          ]
        }
      ],
      "source": [
        "_, binary_acc = shallow_mlp_model.evaluate(test_dataset)\n",
        "print(f\"Categorical accuracy on the test set: {round(binary_acc * 100, 2)}%.\")"
      ]
    },
    {
      "cell_type": "markdown",
      "metadata": {
        "id": "SBtUoaD6C4px"
      },
      "source": [
        "## Save Model"
      ]
    },
    {
      "cell_type": "code",
      "execution_count": null,
      "metadata": {
        "colab": {
          "base_uri": "https://localhost:8080/"
        },
        "id": "xYORyuBTJUBH",
        "outputId": "237a481c-0ce9-4546-b2d7-13e3e788b750"
      },
      "outputs": [
        {
          "output_type": "stream",
          "name": "stderr",
          "text": [
            "WARNING:absl:Found untraced functions such as _update_step_xla while saving (showing 1 of 1). These functions will not be directly callable after loading.\n"
          ]
        }
      ],
      "source": [
        "shallow_mlp_model.save('model_keahlian')"
      ]
    },
    {
      "cell_type": "code",
      "execution_count": null,
      "metadata": {
        "id": "oaQt5foKC1wZ"
      },
      "outputs": [],
      "source": [
        "model = tf.keras.models.load_model('model_keahlian')"
      ]
    },
    {
      "cell_type": "markdown",
      "metadata": {
        "id": "3GdyLt0dDC4T"
      },
      "source": [
        "## Prediction"
      ]
    },
    {
      "cell_type": "code",
      "execution_count": null,
      "metadata": {
        "id": "H01L2a2BDWmp"
      },
      "outputs": [],
      "source": [
        "vocab_dir = '/content/nama_gunung.txt'\n",
        "vocab = []\n",
        "with open(vocab_dir, 'r') as fp:\n",
        "  for line in fp:\n",
        "    x = line[:-1]\n",
        "    vocab.append(x)"
      ]
    },
    {
      "cell_type": "code",
      "execution_count": null,
      "metadata": {
        "colab": {
          "base_uri": "https://localhost:8080/"
        },
        "id": "L9HHDRRhMyow",
        "outputId": "4a35575a-7d8c-4249-ca50-de2bdfd626ad"
      },
      "outputs": [
        {
          "name": "stdout",
          "output_type": "stream",
          "text": [
            "Masukkan keahlian Anda: Pemula\n"
          ]
        }
      ],
      "source": [
        "text = str(input('Masukkan keahlian Anda: '))\n",
        "text = pd.Series(text)"
      ]
    },
    {
      "cell_type": "code",
      "execution_count": null,
      "metadata": {
        "colab": {
          "base_uri": "https://localhost:8080/"
        },
        "id": "DRUKXgeLDi-3",
        "outputId": "539d603d-6fa4-4bd4-8577-2d295f51716b"
      },
      "outputs": [
        {
          "output_type": "stream",
          "name": "stdout",
          "text": [
            "1/1 [==============================] - 0s 295ms/step\n",
            "Keahlian: Pemula\n",
            "Predicted Label(s): (Gondosuli, Muria, Pegunungan Sudirman)\n",
            " \n"
          ]
        }
      ],
      "source": [
        "predicted_probabilities = model.predict(text)\n",
        "\n",
        "for i, text in enumerate(text):\n",
        "    print(f\"Keahlian: {text}\")\n",
        "    predicted_proba = [proba for proba in predicted_probabilities[i]]\n",
        "    top_1_labels = [\n",
        "        x\n",
        "        for _, x in sorted(\n",
        "            zip(predicted_probabilities[i], lookup.get_vocabulary()),\n",
        "            key=lambda pair: pair[0],\n",
        "            reverse=True\n",
        "        )\n",
        "    ][:3]\n",
        "    print(f\"Predicted Label(s): ({', '.join([pred for pred in top_1_labels])})\")\n",
        "    print(\" \")"
      ]
    }
  ],
  "metadata": {
    "accelerator": "GPU",
    "colab": {
      "collapsed_sections": [
        "fz7tr_VFatNa",
        "o_CRIVCUaDVv",
        "F8pU4tuBFG78"
      ],
      "provenance": []
    },
    "kernelspec": {
      "display_name": "Python 3",
      "name": "python3"
    },
    "language_info": {
      "name": "python"
    }
  },
  "nbformat": 4,
  "nbformat_minor": 0
}