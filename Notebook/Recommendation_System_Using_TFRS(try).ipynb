{
  "nbformat": 4,
  "nbformat_minor": 0,
  "metadata": {
    "colab": {
      "provenance": [],
      "collapsed_sections": [
        "fz7tr_VFatNa",
        "o_CRIVCUaDVv"
      ]
    },
    "kernelspec": {
      "name": "python3",
      "display_name": "Python 3"
    },
    "language_info": {
      "name": "python"
    }
  },
  "cells": [
    {
      "cell_type": "markdown",
      "source": [
        "## General steps"
      ],
      "metadata": {
        "id": "pGjZM4-lhs-J"
      }
    },
    {
      "cell_type": "markdown",
      "source": [
        "###**Import TFRS**"
      ],
      "metadata": {
        "id": "B8tX5aZiapsQ"
      }
    },
    {
      "cell_type": "code",
      "source": [
        "!pip install -q tensorflow-recommenders\n",
        "!pip install -q --upgrade tensorflow-datasets"
      ],
      "metadata": {
        "id": "yVRXZ0tjp7Eo",
        "colab": {
          "base_uri": "https://localhost:8080/"
        },
        "outputId": "79315c9d-b2de-489c-a0e4-ead3db395efa"
      },
      "execution_count": null,
      "outputs": [
        {
          "output_type": "stream",
          "name": "stdout",
          "text": [
            "\u001b[?25l     \u001b[90m━━━━━━━━━━━━━━━━━━━━━━━━━━━━━━━━━━━━━━━━\u001b[0m \u001b[32m0.0/96.2 kB\u001b[0m \u001b[31m?\u001b[0m eta \u001b[36m-:--:--\u001b[0m\r\u001b[2K     \u001b[90m━━━━━━━━━━━━━━━━━━━━━━━━━━━━━━━━━━━━━━━━\u001b[0m \u001b[32m96.2/96.2 kB\u001b[0m \u001b[31m3.3 MB/s\u001b[0m eta \u001b[36m0:00:00\u001b[0m\n",
            "\u001b[?25h"
          ]
        }
      ]
    },
    {
      "cell_type": "code",
      "source": [
        "from typing import Dict, Text\n",
        "\n",
        "import numpy as np\n",
        "import pandas as pd\n",
        "import tensorflow as tf\n",
        "\n",
        "import tensorflow_datasets as tfds\n",
        "import tensorflow_recommenders as tfrs"
      ],
      "metadata": {
        "id": "r_jR17ozqL_H"
      },
      "execution_count": null,
      "outputs": []
    },
    {
      "cell_type": "code",
      "source": [
        "# Additional for basic retrieval\n",
        "!pip install -q scann"
      ],
      "metadata": {
        "id": "BLJdzk--qYd2"
      },
      "execution_count": null,
      "outputs": []
    },
    {
      "cell_type": "code",
      "source": [
        "# Additional for basic retrieval\n",
        "import pprint\n",
        "import tempfile"
      ],
      "metadata": {
        "id": "PV2y9M-1qg2b"
      },
      "execution_count": null,
      "outputs": []
    },
    {
      "cell_type": "markdown",
      "source": [
        "###**The datasets**"
      ],
      "metadata": {
        "id": "fz7tr_VFatNa"
      }
    },
    {
      "cell_type": "code",
      "source": [
        "# Ratings data.\n",
        "ratings = tfds.load(\"movielens/100k-ratings\", split=\"train\")\n",
        "# Features of all the available movies.\n",
        "movies = tfds.load(\"movielens/100k-movies\", split=\"train\")"
      ],
      "metadata": {
        "id": "JXSEUBaVal3e"
      },
      "execution_count": null,
      "outputs": []
    },
    {
      "cell_type": "code",
      "source": [
        "# Select the basic features.\n",
        "ratings = ratings.map(lambda x: {\n",
        "    \"movie_title\": x[\"movie_title\"],\n",
        "    \"user_id\": x[\"user_id\"]\n",
        "})\n",
        "movies = movies.map(lambda x: x[\"movie_title\"])"
      ],
      "metadata": {
        "id": "RrpCQN4H8KE2"
      },
      "execution_count": null,
      "outputs": []
    },
    {
      "cell_type": "code",
      "source": [
        "dataset_name = \"movielens/100k-ratings\"\n",
        "dataset, info = tfds.load(dataset_name, split=\"train\", with_info=True)\n",
        "print(info.features)"
      ],
      "metadata": {
        "id": "ayFZV5pZdvJl"
      },
      "execution_count": null,
      "outputs": []
    },
    {
      "cell_type": "code",
      "source": [
        "dataset_name = \"movielens/100k-movies\"\n",
        "dataset, info = tfds.load(dataset_name, split=\"train\", with_info=True)\n",
        "print(info.features)"
      ],
      "metadata": {
        "id": "gTiyTSKKeoeZ"
      },
      "execution_count": null,
      "outputs": []
    },
    {
      "cell_type": "markdown",
      "source": [
        "##Quickstart\n",
        "[TensorFlow Recommenders: Quickstart](https://www.tensorflow.org/recommenders/examples/quickstart)"
      ],
      "metadata": {
        "id": "o_CRIVCUaDVv"
      }
    },
    {
      "cell_type": "markdown",
      "source": [
        "Build vocabularies to convert user ids and movie titles into integer indices for embedding layers:"
      ],
      "metadata": {
        "id": "z6FpWwg3a3Ob"
      }
    },
    {
      "cell_type": "code",
      "source": [
        "user_ids_vocabulary = tf.keras.layers.StringLookup(mask_token=None)\n",
        "user_ids_vocabulary.adapt(ratings.map(lambda x: x[\"user_id\"]))\n",
        "\n",
        "movie_titles_vocabulary = tf.keras.layers.StringLookup(mask_token=None)\n",
        "movie_titles_vocabulary.adapt(movies)"
      ],
      "metadata": {
        "id": "6qWYp-vSayl4"
      },
      "execution_count": null,
      "outputs": []
    },
    {
      "cell_type": "markdown",
      "source": [
        "###**Define a model**\n",
        "\n",
        "We can define a TFRS model by inheriting from `tfrs.Model` and implementing the `compute_loss` method:"
      ],
      "metadata": {
        "id": "p8uvw7LWbKgl"
      }
    },
    {
      "cell_type": "code",
      "source": [
        "class MovieLensModel(tfrs.Model):\n",
        "  # We derive from a custom base class to help reduce boilerplate. Under the hood,\n",
        "  # these are still plain Keras Models.\n",
        "\n",
        "  def __init__(\n",
        "      self,\n",
        "      user_model: tf.keras.Model,\n",
        "      movie_model: tf.keras.Model,\n",
        "      task: tfrs.tasks.Retrieval):\n",
        "    super().__init__()\n",
        "\n",
        "    # Set up user and movie representations.\n",
        "    self.user_model = user_model\n",
        "    self.movie_model = movie_model\n",
        "\n",
        "    # Set up a retrieval task.\n",
        "    self.task = task\n",
        "\n",
        "  def compute_loss(self, features: Dict[Text, tf.Tensor], training=False) -> tf.Tensor:\n",
        "    # Define how the loss is computed.\n",
        "\n",
        "    user_embeddings = self.user_model(features[\"user_id\"])\n",
        "    movie_embeddings = self.movie_model(features[\"movie_title\"])\n",
        "\n",
        "    return self.task(user_embeddings, movie_embeddings)\n",
        "\n"
      ],
      "metadata": {
        "id": "ZDfXPGWibHHy"
      },
      "execution_count": null,
      "outputs": []
    },
    {
      "cell_type": "markdown",
      "source": [
        "Define the two models and the retrieval task."
      ],
      "metadata": {
        "id": "ZFI53s_Ffeas"
      }
    },
    {
      "cell_type": "code",
      "source": [
        "# Define user and movie models.\n",
        "user_model = tf.keras.Sequential([\n",
        "    user_ids_vocabulary,\n",
        "    tf.keras.layers.Embedding(user_ids_vocabulary.vocabulary_size(), 64)\n",
        "])\n",
        "movie_model = tf.keras.Sequential([\n",
        "    movie_titles_vocabulary,\n",
        "    tf.keras.layers.Embedding(movie_titles_vocabulary.vocabulary_size(), 64)\n",
        "])\n",
        "\n",
        "# Define your objectives.\n",
        "task = tfrs.tasks.Retrieval(metrics=tfrs.metrics.FactorizedTopK(\n",
        "    movies.batch(128).map(movie_model)\n",
        "  )\n",
        ")"
      ],
      "metadata": {
        "id": "qBDm0O8Afb0X"
      },
      "execution_count": null,
      "outputs": []
    },
    {
      "cell_type": "markdown",
      "source": [
        "###**Fit and evaluate it.**\n",
        "\n",
        "Create the model, train it, and generate predictions:"
      ],
      "metadata": {
        "id": "53Sw_aJmfqW0"
      }
    },
    {
      "cell_type": "code",
      "source": [
        "# Create a retrieval model.\n",
        "model = MovieLensModel(user_model, movie_model, task)\n",
        "model.compile(optimizer=tf.keras.optimizers.Adagrad(0.5))\n",
        "\n",
        "# Train for 3 epochs.\n",
        "model.fit(ratings.batch(4096), epochs=3)\n",
        "\n",
        "# Use brute-force search to set up retrieval using the trained representations.\n",
        "index = tfrs.layers.factorized_top_k.BruteForce(model.user_model)\n",
        "index.index_from_dataset(\n",
        "    movies.batch(100).map(lambda title: (title, model.movie_model(title))))\n",
        "\n",
        "# Get some recommendations.\n",
        "_, titles = index(np.array([\"42\"]))\n",
        "print(f\"Top 3 recommendations for user 42: {titles[0, :3]}\")"
      ],
      "metadata": {
        "id": "cfzCOa2pfgFm"
      },
      "execution_count": null,
      "outputs": []
    },
    {
      "cell_type": "markdown",
      "source": [
        "##**Applying quickstart to our own dataset**"
      ],
      "metadata": {
        "id": "fx_OiqhCrEFY"
      }
    },
    {
      "cell_type": "markdown",
      "source": [
        "###Import module and connect to gdrive"
      ],
      "metadata": {
        "id": "Hv9BBTYsrNvZ"
      }
    },
    {
      "cell_type": "code",
      "source": [
        "from google.colab import drive\n",
        "drive.mount('/content/gdrive/', force_remount=True)"
      ],
      "metadata": {
        "id": "ZRew-Z9prMRn",
        "colab": {
          "base_uri": "https://localhost:8080/"
        },
        "outputId": "a9a377f1-e39d-4f90-c863-285750dfb102"
      },
      "execution_count": null,
      "outputs": [
        {
          "output_type": "stream",
          "name": "stdout",
          "text": [
            "Mounted at /content/gdrive/\n"
          ]
        }
      ]
    },
    {
      "cell_type": "code",
      "source": [
        "%cd /content/gdrive/My Drive/Colab_Notebooks/Bangkit_Capstone/Dataset"
      ],
      "metadata": {
        "id": "Kg1JFlZ1rdmb",
        "colab": {
          "base_uri": "https://localhost:8080/"
        },
        "outputId": "8c6f6afd-de9b-4512-c385-598a4cceff3c"
      },
      "execution_count": null,
      "outputs": [
        {
          "output_type": "stream",
          "name": "stdout",
          "text": [
            "/content/gdrive/My Drive/Colab_Notebooks/Bangkit_Capstone/Dataset\n"
          ]
        }
      ]
    },
    {
      "cell_type": "code",
      "source": [
        "df = pd.read_csv(\"last_merged_data.csv\")"
      ],
      "metadata": {
        "id": "FHzcN8rfZZlm"
      },
      "execution_count": null,
      "outputs": []
    },
    {
      "cell_type": "code",
      "source": [
        "# Print the row and column numbers\n",
        "num_rows, num_columns = df.shape\n",
        "print(\"Number of rows:\", num_rows)\n",
        "print(\"Number of columns:\", num_columns)"
      ],
      "metadata": {
        "colab": {
          "base_uri": "https://localhost:8080/"
        },
        "id": "Ylj_sYNW8QBT",
        "outputId": "d3b3cc7e-e627-405c-fab9-eee974d70f36"
      },
      "execution_count": null,
      "outputs": [
        {
          "output_type": "stream",
          "name": "stdout",
          "text": [
            "Number of rows: 6013\n",
            "Number of columns: 10\n"
          ]
        }
      ]
    },
    {
      "cell_type": "code",
      "source": [
        "df.head()"
      ],
      "metadata": {
        "id": "Sr0xl5Uo1CE2",
        "colab": {
          "base_uri": "https://localhost:8080/",
          "height": 206
        },
        "outputId": "c07f6796-511e-4247-de64-feb50fb2cd2f"
      },
      "execution_count": null,
      "outputs": [
        {
          "output_type": "execute_result",
          "data": {
            "text/plain": [
              "   gunungID nama_gunung  ketinggian    kota provinsi_gunung provinsi_user  \\\n",
              "0         1      Arjuno        3339  Malang      Jawa Timur    Jawa Timur   \n",
              "1         1      Arjuno        3339  Malang      Jawa Timur    Jawa Timur   \n",
              "2         1      Arjuno        3339  Malang      Jawa Timur    Jawa Timur   \n",
              "3         1      Arjuno        3339  Malang      Jawa Timur    Jawa Timur   \n",
              "4         1      Arjuno        3339  Malang      Jawa Timur    Jawa Timur   \n",
              "\n",
              "   userID                 name keahlian tingkat_kesulitan  \n",
              "0      43       Everleigh Cain   Pemula             Sulit  \n",
              "1     133        Elise Winters   Pemula             Sulit  \n",
              "2     464        Thomas Farley   Sedang             Sulit  \n",
              "3     483            Milana Wu   Sedang             Sulit  \n",
              "4     495  Genevieve Gillespie   Pemula             Sulit  "
            ],
            "text/html": [
              "\n",
              "  <div id=\"df-2f354af2-a317-4fa6-a601-b7684bfe3c50\">\n",
              "    <div class=\"colab-df-container\">\n",
              "      <div>\n",
              "<style scoped>\n",
              "    .dataframe tbody tr th:only-of-type {\n",
              "        vertical-align: middle;\n",
              "    }\n",
              "\n",
              "    .dataframe tbody tr th {\n",
              "        vertical-align: top;\n",
              "    }\n",
              "\n",
              "    .dataframe thead th {\n",
              "        text-align: right;\n",
              "    }\n",
              "</style>\n",
              "<table border=\"1\" class=\"dataframe\">\n",
              "  <thead>\n",
              "    <tr style=\"text-align: right;\">\n",
              "      <th></th>\n",
              "      <th>gunungID</th>\n",
              "      <th>nama_gunung</th>\n",
              "      <th>ketinggian</th>\n",
              "      <th>kota</th>\n",
              "      <th>provinsi_gunung</th>\n",
              "      <th>provinsi_user</th>\n",
              "      <th>userID</th>\n",
              "      <th>name</th>\n",
              "      <th>keahlian</th>\n",
              "      <th>tingkat_kesulitan</th>\n",
              "    </tr>\n",
              "  </thead>\n",
              "  <tbody>\n",
              "    <tr>\n",
              "      <th>0</th>\n",
              "      <td>1</td>\n",
              "      <td>Arjuno</td>\n",
              "      <td>3339</td>\n",
              "      <td>Malang</td>\n",
              "      <td>Jawa Timur</td>\n",
              "      <td>Jawa Timur</td>\n",
              "      <td>43</td>\n",
              "      <td>Everleigh Cain</td>\n",
              "      <td>Pemula</td>\n",
              "      <td>Sulit</td>\n",
              "    </tr>\n",
              "    <tr>\n",
              "      <th>1</th>\n",
              "      <td>1</td>\n",
              "      <td>Arjuno</td>\n",
              "      <td>3339</td>\n",
              "      <td>Malang</td>\n",
              "      <td>Jawa Timur</td>\n",
              "      <td>Jawa Timur</td>\n",
              "      <td>133</td>\n",
              "      <td>Elise Winters</td>\n",
              "      <td>Pemula</td>\n",
              "      <td>Sulit</td>\n",
              "    </tr>\n",
              "    <tr>\n",
              "      <th>2</th>\n",
              "      <td>1</td>\n",
              "      <td>Arjuno</td>\n",
              "      <td>3339</td>\n",
              "      <td>Malang</td>\n",
              "      <td>Jawa Timur</td>\n",
              "      <td>Jawa Timur</td>\n",
              "      <td>464</td>\n",
              "      <td>Thomas Farley</td>\n",
              "      <td>Sedang</td>\n",
              "      <td>Sulit</td>\n",
              "    </tr>\n",
              "    <tr>\n",
              "      <th>3</th>\n",
              "      <td>1</td>\n",
              "      <td>Arjuno</td>\n",
              "      <td>3339</td>\n",
              "      <td>Malang</td>\n",
              "      <td>Jawa Timur</td>\n",
              "      <td>Jawa Timur</td>\n",
              "      <td>483</td>\n",
              "      <td>Milana Wu</td>\n",
              "      <td>Sedang</td>\n",
              "      <td>Sulit</td>\n",
              "    </tr>\n",
              "    <tr>\n",
              "      <th>4</th>\n",
              "      <td>1</td>\n",
              "      <td>Arjuno</td>\n",
              "      <td>3339</td>\n",
              "      <td>Malang</td>\n",
              "      <td>Jawa Timur</td>\n",
              "      <td>Jawa Timur</td>\n",
              "      <td>495</td>\n",
              "      <td>Genevieve Gillespie</td>\n",
              "      <td>Pemula</td>\n",
              "      <td>Sulit</td>\n",
              "    </tr>\n",
              "  </tbody>\n",
              "</table>\n",
              "</div>\n",
              "      <button class=\"colab-df-convert\" onclick=\"convertToInteractive('df-2f354af2-a317-4fa6-a601-b7684bfe3c50')\"\n",
              "              title=\"Convert this dataframe to an interactive table.\"\n",
              "              style=\"display:none;\">\n",
              "        \n",
              "  <svg xmlns=\"http://www.w3.org/2000/svg\" height=\"24px\"viewBox=\"0 0 24 24\"\n",
              "       width=\"24px\">\n",
              "    <path d=\"M0 0h24v24H0V0z\" fill=\"none\"/>\n",
              "    <path d=\"M18.56 5.44l.94 2.06.94-2.06 2.06-.94-2.06-.94-.94-2.06-.94 2.06-2.06.94zm-11 1L8.5 8.5l.94-2.06 2.06-.94-2.06-.94L8.5 2.5l-.94 2.06-2.06.94zm10 10l.94 2.06.94-2.06 2.06-.94-2.06-.94-.94-2.06-.94 2.06-2.06.94z\"/><path d=\"M17.41 7.96l-1.37-1.37c-.4-.4-.92-.59-1.43-.59-.52 0-1.04.2-1.43.59L10.3 9.45l-7.72 7.72c-.78.78-.78 2.05 0 2.83L4 21.41c.39.39.9.59 1.41.59.51 0 1.02-.2 1.41-.59l7.78-7.78 2.81-2.81c.8-.78.8-2.07 0-2.86zM5.41 20L4 18.59l7.72-7.72 1.47 1.35L5.41 20z\"/>\n",
              "  </svg>\n",
              "      </button>\n",
              "      \n",
              "  <style>\n",
              "    .colab-df-container {\n",
              "      display:flex;\n",
              "      flex-wrap:wrap;\n",
              "      gap: 12px;\n",
              "    }\n",
              "\n",
              "    .colab-df-convert {\n",
              "      background-color: #E8F0FE;\n",
              "      border: none;\n",
              "      border-radius: 50%;\n",
              "      cursor: pointer;\n",
              "      display: none;\n",
              "      fill: #1967D2;\n",
              "      height: 32px;\n",
              "      padding: 0 0 0 0;\n",
              "      width: 32px;\n",
              "    }\n",
              "\n",
              "    .colab-df-convert:hover {\n",
              "      background-color: #E2EBFA;\n",
              "      box-shadow: 0px 1px 2px rgba(60, 64, 67, 0.3), 0px 1px 3px 1px rgba(60, 64, 67, 0.15);\n",
              "      fill: #174EA6;\n",
              "    }\n",
              "\n",
              "    [theme=dark] .colab-df-convert {\n",
              "      background-color: #3B4455;\n",
              "      fill: #D2E3FC;\n",
              "    }\n",
              "\n",
              "    [theme=dark] .colab-df-convert:hover {\n",
              "      background-color: #434B5C;\n",
              "      box-shadow: 0px 1px 3px 1px rgba(0, 0, 0, 0.15);\n",
              "      filter: drop-shadow(0px 1px 2px rgba(0, 0, 0, 0.3));\n",
              "      fill: #FFFFFF;\n",
              "    }\n",
              "  </style>\n",
              "\n",
              "      <script>\n",
              "        const buttonEl =\n",
              "          document.querySelector('#df-2f354af2-a317-4fa6-a601-b7684bfe3c50 button.colab-df-convert');\n",
              "        buttonEl.style.display =\n",
              "          google.colab.kernel.accessAllowed ? 'block' : 'none';\n",
              "\n",
              "        async function convertToInteractive(key) {\n",
              "          const element = document.querySelector('#df-2f354af2-a317-4fa6-a601-b7684bfe3c50');\n",
              "          const dataTable =\n",
              "            await google.colab.kernel.invokeFunction('convertToInteractive',\n",
              "                                                     [key], {});\n",
              "          if (!dataTable) return;\n",
              "\n",
              "          const docLinkHtml = 'Like what you see? Visit the ' +\n",
              "            '<a target=\"_blank\" href=https://colab.research.google.com/notebooks/data_table.ipynb>data table notebook</a>'\n",
              "            + ' to learn more about interactive tables.';\n",
              "          element.innerHTML = '';\n",
              "          dataTable['output_type'] = 'display_data';\n",
              "          await google.colab.output.renderOutput(dataTable, element);\n",
              "          const docLink = document.createElement('div');\n",
              "          docLink.innerHTML = docLinkHtml;\n",
              "          element.appendChild(docLink);\n",
              "        }\n",
              "      </script>\n",
              "    </div>\n",
              "  </div>\n",
              "  "
            ]
          },
          "metadata": {},
          "execution_count": 7
        }
      ]
    },
    {
      "cell_type": "code",
      "source": [
        "df[\"gunungID\"] = df[\"gunungID\"].astype(\"string\")\n",
        "df[\"nama_gunung\"] = df[\"nama_gunung\"].astype(\"string\")\n",
        "df[\"ketinggian\"] = df[\"ketinggian\"].astype(\"int64\")\n",
        "df[\"kota\"] = df[\"kota\"].astype(\"string\")\n",
        "df[\"provinsi_gunung\"] = df[\"provinsi_gunung\"].astype(\"string\")\n",
        "df[\"tingkat_kesulitan\"] = df[\"tingkat_kesulitan\"].astype(\"string\")\n",
        "df[\"userID\"] = df[\"userID\"].astype(\"string\")\n",
        "df[\"name\"] = df[\"name\"].astype(\"string\")\n",
        "df[\"keahlian\"] = df[\"keahlian\"].astype(\"string\")\n",
        "df[\"provinsi_user\"] = df[\"provinsi_user\"].astype(\"string\")"
      ],
      "metadata": {
        "id": "SYFb1QR_mc_5"
      },
      "execution_count": null,
      "outputs": []
    },
    {
      "cell_type": "code",
      "source": [
        "# mountain_data = pd.read_csv(\"Gunung_fix.csv\")\n",
        "# user_data = pd.read_csv(\"user_sample.csv\")"
      ],
      "metadata": {
        "id": "uZALCRz9rqXM"
      },
      "execution_count": null,
      "outputs": []
    },
    {
      "cell_type": "code",
      "source": [
        "# Converting separated data to tfds\n",
        "# mountain_tf_dataset = tf.data.Dataset.from_tensor_slices(dict(mountain_data))\n",
        "# user_tf_dataset = tf.data.Dataset.from_tensor_slices(dict(user_data))"
      ],
      "metadata": {
        "id": "1jmpVTdqwWeE"
      },
      "execution_count": null,
      "outputs": []
    },
    {
      "cell_type": "code",
      "source": [
        "# Converting merged dataset to tfds\n",
        "df_tf_dataset = tf.data.Dataset.from_tensor_slices(dict(df))"
      ],
      "metadata": {
        "id": "DuF7v2GXZgE7"
      },
      "execution_count": null,
      "outputs": []
    },
    {
      "cell_type": "code",
      "source": [
        "# Get column data types\n",
        "merged_data_types = {key: value.dtype for key, value in df_tf_dataset.element_spec.items()}\n",
        "for key, value in merged_data_types.items():\n",
        "    print(key, value)"
      ],
      "metadata": {
        "id": "aM6-M3GZZvNP",
        "colab": {
          "base_uri": "https://localhost:8080/"
        },
        "outputId": "2097939c-5480-4872-80a3-08301420fd3a"
      },
      "execution_count": null,
      "outputs": [
        {
          "output_type": "stream",
          "name": "stdout",
          "text": [
            "gunungID <dtype: 'string'>\n",
            "nama_gunung <dtype: 'string'>\n",
            "ketinggian <dtype: 'int64'>\n",
            "kota <dtype: 'string'>\n",
            "provinsi_gunung <dtype: 'string'>\n",
            "provinsi_user <dtype: 'string'>\n",
            "userID <dtype: 'string'>\n",
            "name <dtype: 'string'>\n",
            "keahlian <dtype: 'string'>\n",
            "tingkat_kesulitan <dtype: 'string'>\n"
          ]
        }
      ]
    },
    {
      "cell_type": "code",
      "source": [
        "# Get column data types\n",
        "# mountain_data_types = {key: value.dtype for key, value in mountain_tf_dataset.element_spec.items()}\n",
        "# print(mountain_data_types)\n",
        "\n",
        "# Get column data types\n",
        "# user_data_types = {key: value.dtype for key, value in user_tf_dataset.element_spec.items()}\n",
        "# print(user_data_types)"
      ],
      "metadata": {
        "id": "KSYFByXY04vk"
      },
      "execution_count": null,
      "outputs": []
    },
    {
      "cell_type": "code",
      "source": [
        "# Select the basic features.\n",
        "climbable = df_tf_dataset.map(lambda x: {\n",
        "    \"nama_gunung\": x[\"nama_gunung\"],\n",
        "    \"userID\": x[\"userID\"]\n",
        "})\n",
        "mount = df_tf_dataset.map(lambda x: x[\"nama_gunung\"])"
      ],
      "metadata": {
        "id": "wOrH02b8Z_h_"
      },
      "execution_count": null,
      "outputs": []
    },
    {
      "cell_type": "code",
      "source": [
        "user_ids_vocabulary = tf.keras.layers.StringLookup(mask_token=None)\n",
        "user_ids_vocabulary.adapt(climbable.map(lambda x: x[\"userID\"]))\n",
        "\n",
        "mount_names_vocabulary = tf.keras.layers.StringLookup(mask_token=None)\n",
        "mount_names_vocabulary.adapt(mount)"
      ],
      "metadata": {
        "id": "j5Nt4k2O66fW"
      },
      "execution_count": null,
      "outputs": []
    },
    {
      "cell_type": "code",
      "source": [
        "class MountainModel(tfrs.Model):\n",
        "  # We derive from a custom base class to help reduce boilerplate. Under the hood,\n",
        "  # these are still plain Keras Models.\n",
        "\n",
        "  def __init__(\n",
        "      self,\n",
        "      user_model: tf.keras.Model,\n",
        "      mountain_model: tf.keras.Model,\n",
        "      task: tfrs.tasks.Retrieval):\n",
        "    super().__init__()\n",
        "\n",
        "    # Set up user and movie representations.\n",
        "    self.user_model = user_model\n",
        "    self.mountain_model = mountain_model\n",
        "\n",
        "    # Set up a retrieval task.\n",
        "    self.task = task\n",
        "\n",
        "  def compute_loss(self, features: Dict[Text, tf.Tensor], training=False) -> tf.Tensor:\n",
        "    # Define how the loss is computed.\n",
        "\n",
        "    user_embeddings = self.user_model(features[\"userID\"])\n",
        "    mountain_embeddings = self.mountain_model(features[\"nama_gunung\"])\n",
        "\n",
        "    return self.task(user_embeddings, mountain_embeddings)"
      ],
      "metadata": {
        "id": "9a_Ar4CScDbC"
      },
      "execution_count": null,
      "outputs": []
    },
    {
      "cell_type": "code",
      "source": [
        "# Define user and movie models.\n",
        "user_model = tf.keras.Sequential([\n",
        "    user_ids_vocabulary,\n",
        "    tf.keras.layers.Embedding(user_ids_vocabulary.vocabulary_size(), 64)\n",
        "])\n",
        "mountain_model = tf.keras.Sequential([\n",
        "    mount_names_vocabulary,\n",
        "    tf.keras.layers.Embedding(mount_names_vocabulary.vocabulary_size(), 64)\n",
        "])\n",
        "\n",
        "# Define your objectives.\n",
        "task = tfrs.tasks.Retrieval(metrics=tfrs.metrics.FactorizedTopK(\n",
        "    mount.batch(128).map(mountain_model)\n",
        "  )\n",
        ")"
      ],
      "metadata": {
        "id": "QZrzkwf4cMzZ"
      },
      "execution_count": null,
      "outputs": []
    },
    {
      "cell_type": "code",
      "source": [
        "# Create a retrieval model.\n",
        "model = MountainModel(user_model, mountain_model, task)\n",
        "model.compile(optimizer=tf.keras.optimizers.Adagrad(0.5))\n",
        "\n",
        "# Train for 3 epochs.\n",
        "# model.fit(climbable.batch(4096), epochs=3)\n",
        "model.fit(climbable.batch(8192), epochs=3)\n",
        "\n",
        "# Use brute-force search to set up retrieval using the trained representations.\n",
        "index = tfrs.layers.factorized_top_k.BruteForce(model.user_model)\n",
        "index.index_from_dataset(\n",
        "    mount.batch(100).map(lambda title: (title, model.mountain_model(title))))"
      ],
      "metadata": {
        "id": "onT547MYccax",
        "colab": {
          "base_uri": "https://localhost:8080/"
        },
        "outputId": "c2fa6fc6-3d31-47e2-93fd-0ddd116071ad"
      },
      "execution_count": null,
      "outputs": [
        {
          "output_type": "stream",
          "name": "stdout",
          "text": [
            "Epoch 1/3\n",
            "1/1 [==============================] - 6s 6s/step - factorized_top_k/top_1_categorical_accuracy: 0.0000e+00 - factorized_top_k/top_5_categorical_accuracy: 0.0000e+00 - factorized_top_k/top_10_categorical_accuracy: 0.0000e+00 - factorized_top_k/top_50_categorical_accuracy: 0.0000e+00 - factorized_top_k/top_100_categorical_accuracy: 0.0000e+00 - loss: 52323.5078 - regularization_loss: 1.9523 - total_loss: 52325.4609\n",
            "Epoch 2/3\n",
            "1/1 [==============================] - 4s 4s/step - factorized_top_k/top_1_categorical_accuracy: 0.0000e+00 - factorized_top_k/top_5_categorical_accuracy: 0.0000e+00 - factorized_top_k/top_10_categorical_accuracy: 0.0000e+00 - factorized_top_k/top_50_categorical_accuracy: 0.0000e+00 - factorized_top_k/top_100_categorical_accuracy: 0.0000e+00 - loss: 51579.6602 - regularization_loss: 13.5224 - total_loss: 51593.1836\n",
            "Epoch 3/3\n",
            "1/1 [==============================] - 7s 7s/step - factorized_top_k/top_1_categorical_accuracy: 0.8073 - factorized_top_k/top_5_categorical_accuracy: 0.8073 - factorized_top_k/top_10_categorical_accuracy: 0.8073 - factorized_top_k/top_50_categorical_accuracy: 0.9375 - factorized_top_k/top_100_categorical_accuracy: 0.9729 - loss: 30225.4980 - regularization_loss: 269.7890 - total_loss: 30495.2871\n"
          ]
        },
        {
          "output_type": "execute_result",
          "data": {
            "text/plain": [
              "<tensorflow_recommenders.layers.factorized_top_k.BruteForce at 0x7f003cde48b0>"
            ]
          },
          "metadata": {},
          "execution_count": 42
        }
      ]
    },
    {
      "cell_type": "code",
      "source": [
        "# Get some recommendations.\n",
        "_, titles = index(np.array([\"43\"]))\n",
        "print(f\"Top 3 recommendations for user 43: {titles[0, :3]}\")"
      ],
      "metadata": {
        "id": "utxj2duec--t",
        "colab": {
          "base_uri": "https://localhost:8080/"
        },
        "outputId": "2a425438-b7d2-4f40-df55-b561d0716a30"
      },
      "execution_count": null,
      "outputs": [
        {
          "output_type": "stream",
          "name": "stdout",
          "text": [
            "Top 3 recommendations for user 43: [b'Kawi' b'Kawi' b'Kawi']\n"
          ]
        }
      ]
    },
    {
      "cell_type": "code",
      "source": [
        "# Get some recommendations.\n",
        "_, titles = index(np.array([\"43\"]))\n",
        "print(f\"Top recommendations for user 43: {titles[0, :1]}\")"
      ],
      "metadata": {
        "colab": {
          "base_uri": "https://localhost:8080/"
        },
        "id": "xTSja3hc9f5H",
        "outputId": "1df493cc-d482-4fc2-b0c1-e649aff060f5"
      },
      "execution_count": null,
      "outputs": [
        {
          "output_type": "stream",
          "name": "stdout",
          "text": [
            "Top recommendations for user 43: [b'Kawi']\n"
          ]
        }
      ]
    },
    {
      "cell_type": "code",
      "source": [
        "duplicates = df[df.duplicated('name')]\n",
        "# print(duplicates)\n",
        "duplicates"
      ],
      "metadata": {
        "colab": {
          "base_uri": "https://localhost:8080/",
          "height": 424
        },
        "id": "Sk6JUzbL6Zjh",
        "outputId": "0d7bcab1-2f9f-42c8-d1f9-2aeade97066b"
      },
      "execution_count": null,
      "outputs": [
        {
          "output_type": "execute_result",
          "data": {
            "text/plain": [
              "     gunungID     nama_gunung  ketinggian      kota provinsi_gunung  \\\n",
              "63          8            Kawi        2551    Malang      Jawa Timur   \n",
              "64          8            Kawi        2551    Malang      Jawa Timur   \n",
              "65          8            Kawi        2551    Malang      Jawa Timur   \n",
              "66          8            Kawi        2551    Malang      Jawa Timur   \n",
              "67          8            Kawi        2551    Malang      Jawa Timur   \n",
              "...       ...             ...         ...       ...             ...   \n",
              "6008      248  Pantai Siombak        3700  Tolikara           Papua   \n",
              "6009      248  Pantai Siombak        3700  Tolikara           Papua   \n",
              "6010      248  Pantai Siombak        3700  Tolikara           Papua   \n",
              "6011      248  Pantai Siombak        3700  Tolikara           Papua   \n",
              "6012      248  Pantai Siombak        3700  Tolikara           Papua   \n",
              "\n",
              "     provinsi_user userID                 name keahlian tingkat_kesulitan  \n",
              "63      Jawa Timur     43       Everleigh Cain   Pemula             Sulit  \n",
              "64      Jawa Timur    133        Elise Winters   Pemula             Sulit  \n",
              "65      Jawa Timur    464        Thomas Farley   Sedang             Sulit  \n",
              "66      Jawa Timur    483            Milana Wu   Sedang             Sulit  \n",
              "67      Jawa Timur    495  Genevieve Gillespie   Pemula             Sulit  \n",
              "...            ...    ...                  ...      ...               ...  \n",
              "6008         Papua   4542         Jovanni Case   Pemula             Sulit  \n",
              "6009         Papua   4583          Mavis Reyna    Mahir             Sulit  \n",
              "6010         Papua   4743       Bridget Prince    Mahir             Sulit  \n",
              "6011         Papua   4817       Maryam Sweeney    Mahir             Sulit  \n",
              "6012         Papua   4877            Amaya Ali    Mahir             Sulit  \n",
              "\n",
              "[2483 rows x 10 columns]"
            ],
            "text/html": [
              "\n",
              "  <div id=\"df-89d2796b-2db7-4772-bc4d-da735924dd07\">\n",
              "    <div class=\"colab-df-container\">\n",
              "      <div>\n",
              "<style scoped>\n",
              "    .dataframe tbody tr th:only-of-type {\n",
              "        vertical-align: middle;\n",
              "    }\n",
              "\n",
              "    .dataframe tbody tr th {\n",
              "        vertical-align: top;\n",
              "    }\n",
              "\n",
              "    .dataframe thead th {\n",
              "        text-align: right;\n",
              "    }\n",
              "</style>\n",
              "<table border=\"1\" class=\"dataframe\">\n",
              "  <thead>\n",
              "    <tr style=\"text-align: right;\">\n",
              "      <th></th>\n",
              "      <th>gunungID</th>\n",
              "      <th>nama_gunung</th>\n",
              "      <th>ketinggian</th>\n",
              "      <th>kota</th>\n",
              "      <th>provinsi_gunung</th>\n",
              "      <th>provinsi_user</th>\n",
              "      <th>userID</th>\n",
              "      <th>name</th>\n",
              "      <th>keahlian</th>\n",
              "      <th>tingkat_kesulitan</th>\n",
              "    </tr>\n",
              "  </thead>\n",
              "  <tbody>\n",
              "    <tr>\n",
              "      <th>63</th>\n",
              "      <td>8</td>\n",
              "      <td>Kawi</td>\n",
              "      <td>2551</td>\n",
              "      <td>Malang</td>\n",
              "      <td>Jawa Timur</td>\n",
              "      <td>Jawa Timur</td>\n",
              "      <td>43</td>\n",
              "      <td>Everleigh Cain</td>\n",
              "      <td>Pemula</td>\n",
              "      <td>Sulit</td>\n",
              "    </tr>\n",
              "    <tr>\n",
              "      <th>64</th>\n",
              "      <td>8</td>\n",
              "      <td>Kawi</td>\n",
              "      <td>2551</td>\n",
              "      <td>Malang</td>\n",
              "      <td>Jawa Timur</td>\n",
              "      <td>Jawa Timur</td>\n",
              "      <td>133</td>\n",
              "      <td>Elise Winters</td>\n",
              "      <td>Pemula</td>\n",
              "      <td>Sulit</td>\n",
              "    </tr>\n",
              "    <tr>\n",
              "      <th>65</th>\n",
              "      <td>8</td>\n",
              "      <td>Kawi</td>\n",
              "      <td>2551</td>\n",
              "      <td>Malang</td>\n",
              "      <td>Jawa Timur</td>\n",
              "      <td>Jawa Timur</td>\n",
              "      <td>464</td>\n",
              "      <td>Thomas Farley</td>\n",
              "      <td>Sedang</td>\n",
              "      <td>Sulit</td>\n",
              "    </tr>\n",
              "    <tr>\n",
              "      <th>66</th>\n",
              "      <td>8</td>\n",
              "      <td>Kawi</td>\n",
              "      <td>2551</td>\n",
              "      <td>Malang</td>\n",
              "      <td>Jawa Timur</td>\n",
              "      <td>Jawa Timur</td>\n",
              "      <td>483</td>\n",
              "      <td>Milana Wu</td>\n",
              "      <td>Sedang</td>\n",
              "      <td>Sulit</td>\n",
              "    </tr>\n",
              "    <tr>\n",
              "      <th>67</th>\n",
              "      <td>8</td>\n",
              "      <td>Kawi</td>\n",
              "      <td>2551</td>\n",
              "      <td>Malang</td>\n",
              "      <td>Jawa Timur</td>\n",
              "      <td>Jawa Timur</td>\n",
              "      <td>495</td>\n",
              "      <td>Genevieve Gillespie</td>\n",
              "      <td>Pemula</td>\n",
              "      <td>Sulit</td>\n",
              "    </tr>\n",
              "    <tr>\n",
              "      <th>...</th>\n",
              "      <td>...</td>\n",
              "      <td>...</td>\n",
              "      <td>...</td>\n",
              "      <td>...</td>\n",
              "      <td>...</td>\n",
              "      <td>...</td>\n",
              "      <td>...</td>\n",
              "      <td>...</td>\n",
              "      <td>...</td>\n",
              "      <td>...</td>\n",
              "    </tr>\n",
              "    <tr>\n",
              "      <th>6008</th>\n",
              "      <td>248</td>\n",
              "      <td>Pantai Siombak</td>\n",
              "      <td>3700</td>\n",
              "      <td>Tolikara</td>\n",
              "      <td>Papua</td>\n",
              "      <td>Papua</td>\n",
              "      <td>4542</td>\n",
              "      <td>Jovanni Case</td>\n",
              "      <td>Pemula</td>\n",
              "      <td>Sulit</td>\n",
              "    </tr>\n",
              "    <tr>\n",
              "      <th>6009</th>\n",
              "      <td>248</td>\n",
              "      <td>Pantai Siombak</td>\n",
              "      <td>3700</td>\n",
              "      <td>Tolikara</td>\n",
              "      <td>Papua</td>\n",
              "      <td>Papua</td>\n",
              "      <td>4583</td>\n",
              "      <td>Mavis Reyna</td>\n",
              "      <td>Mahir</td>\n",
              "      <td>Sulit</td>\n",
              "    </tr>\n",
              "    <tr>\n",
              "      <th>6010</th>\n",
              "      <td>248</td>\n",
              "      <td>Pantai Siombak</td>\n",
              "      <td>3700</td>\n",
              "      <td>Tolikara</td>\n",
              "      <td>Papua</td>\n",
              "      <td>Papua</td>\n",
              "      <td>4743</td>\n",
              "      <td>Bridget Prince</td>\n",
              "      <td>Mahir</td>\n",
              "      <td>Sulit</td>\n",
              "    </tr>\n",
              "    <tr>\n",
              "      <th>6011</th>\n",
              "      <td>248</td>\n",
              "      <td>Pantai Siombak</td>\n",
              "      <td>3700</td>\n",
              "      <td>Tolikara</td>\n",
              "      <td>Papua</td>\n",
              "      <td>Papua</td>\n",
              "      <td>4817</td>\n",
              "      <td>Maryam Sweeney</td>\n",
              "      <td>Mahir</td>\n",
              "      <td>Sulit</td>\n",
              "    </tr>\n",
              "    <tr>\n",
              "      <th>6012</th>\n",
              "      <td>248</td>\n",
              "      <td>Pantai Siombak</td>\n",
              "      <td>3700</td>\n",
              "      <td>Tolikara</td>\n",
              "      <td>Papua</td>\n",
              "      <td>Papua</td>\n",
              "      <td>4877</td>\n",
              "      <td>Amaya Ali</td>\n",
              "      <td>Mahir</td>\n",
              "      <td>Sulit</td>\n",
              "    </tr>\n",
              "  </tbody>\n",
              "</table>\n",
              "<p>2483 rows × 10 columns</p>\n",
              "</div>\n",
              "      <button class=\"colab-df-convert\" onclick=\"convertToInteractive('df-89d2796b-2db7-4772-bc4d-da735924dd07')\"\n",
              "              title=\"Convert this dataframe to an interactive table.\"\n",
              "              style=\"display:none;\">\n",
              "        \n",
              "  <svg xmlns=\"http://www.w3.org/2000/svg\" height=\"24px\"viewBox=\"0 0 24 24\"\n",
              "       width=\"24px\">\n",
              "    <path d=\"M0 0h24v24H0V0z\" fill=\"none\"/>\n",
              "    <path d=\"M18.56 5.44l.94 2.06.94-2.06 2.06-.94-2.06-.94-.94-2.06-.94 2.06-2.06.94zm-11 1L8.5 8.5l.94-2.06 2.06-.94-2.06-.94L8.5 2.5l-.94 2.06-2.06.94zm10 10l.94 2.06.94-2.06 2.06-.94-2.06-.94-.94-2.06-.94 2.06-2.06.94z\"/><path d=\"M17.41 7.96l-1.37-1.37c-.4-.4-.92-.59-1.43-.59-.52 0-1.04.2-1.43.59L10.3 9.45l-7.72 7.72c-.78.78-.78 2.05 0 2.83L4 21.41c.39.39.9.59 1.41.59.51 0 1.02-.2 1.41-.59l7.78-7.78 2.81-2.81c.8-.78.8-2.07 0-2.86zM5.41 20L4 18.59l7.72-7.72 1.47 1.35L5.41 20z\"/>\n",
              "  </svg>\n",
              "      </button>\n",
              "      \n",
              "  <style>\n",
              "    .colab-df-container {\n",
              "      display:flex;\n",
              "      flex-wrap:wrap;\n",
              "      gap: 12px;\n",
              "    }\n",
              "\n",
              "    .colab-df-convert {\n",
              "      background-color: #E8F0FE;\n",
              "      border: none;\n",
              "      border-radius: 50%;\n",
              "      cursor: pointer;\n",
              "      display: none;\n",
              "      fill: #1967D2;\n",
              "      height: 32px;\n",
              "      padding: 0 0 0 0;\n",
              "      width: 32px;\n",
              "    }\n",
              "\n",
              "    .colab-df-convert:hover {\n",
              "      background-color: #E2EBFA;\n",
              "      box-shadow: 0px 1px 2px rgba(60, 64, 67, 0.3), 0px 1px 3px 1px rgba(60, 64, 67, 0.15);\n",
              "      fill: #174EA6;\n",
              "    }\n",
              "\n",
              "    [theme=dark] .colab-df-convert {\n",
              "      background-color: #3B4455;\n",
              "      fill: #D2E3FC;\n",
              "    }\n",
              "\n",
              "    [theme=dark] .colab-df-convert:hover {\n",
              "      background-color: #434B5C;\n",
              "      box-shadow: 0px 1px 3px 1px rgba(0, 0, 0, 0.15);\n",
              "      filter: drop-shadow(0px 1px 2px rgba(0, 0, 0, 0.3));\n",
              "      fill: #FFFFFF;\n",
              "    }\n",
              "  </style>\n",
              "\n",
              "      <script>\n",
              "        const buttonEl =\n",
              "          document.querySelector('#df-89d2796b-2db7-4772-bc4d-da735924dd07 button.colab-df-convert');\n",
              "        buttonEl.style.display =\n",
              "          google.colab.kernel.accessAllowed ? 'block' : 'none';\n",
              "\n",
              "        async function convertToInteractive(key) {\n",
              "          const element = document.querySelector('#df-89d2796b-2db7-4772-bc4d-da735924dd07');\n",
              "          const dataTable =\n",
              "            await google.colab.kernel.invokeFunction('convertToInteractive',\n",
              "                                                     [key], {});\n",
              "          if (!dataTable) return;\n",
              "\n",
              "          const docLinkHtml = 'Like what you see? Visit the ' +\n",
              "            '<a target=\"_blank\" href=https://colab.research.google.com/notebooks/data_table.ipynb>data table notebook</a>'\n",
              "            + ' to learn more about interactive tables.';\n",
              "          element.innerHTML = '';\n",
              "          dataTable['output_type'] = 'display_data';\n",
              "          await google.colab.output.renderOutput(dataTable, element);\n",
              "          const docLink = document.createElement('div');\n",
              "          docLink.innerHTML = docLinkHtml;\n",
              "          element.appendChild(docLink);\n",
              "        }\n",
              "      </script>\n",
              "    </div>\n",
              "  </div>\n",
              "  "
            ]
          },
          "metadata": {},
          "execution_count": 28
        }
      ]
    },
    {
      "cell_type": "markdown",
      "source": [
        "### Trying some configuration"
      ],
      "metadata": {
        "id": "zkHoLcbkRhth"
      }
    },
    {
      "cell_type": "code",
      "source": [
        "user_model = tf.keras.Sequential([\n",
        "    user_ids_vocabulary,\n",
        "    tf.keras.layers.Embedding(\n",
        "        user_ids_vocabulary.vocabulary_size(),\n",
        "        64,\n",
        "        embeddings_regularizer=tf.keras.regularizers.l2(0.01)\n",
        "    )\n",
        "])\n",
        "\n",
        "mountain_model = tf.keras.Sequential([\n",
        "    mount_names_vocabulary,\n",
        "    tf.keras.layers.Embedding(\n",
        "        mount_names_vocabulary.vocabulary_size(),\n",
        "        64,\n",
        "        embeddings_regularizer=tf.keras.regularizers.l2(0.01)\n",
        "    )\n",
        "])\n"
      ],
      "metadata": {
        "id": "sAa2uHhSRjmy"
      },
      "execution_count": null,
      "outputs": []
    },
    {
      "cell_type": "code",
      "source": [],
      "metadata": {
        "id": "04CbOPg-R05F"
      },
      "execution_count": null,
      "outputs": []
    }
  ]
}